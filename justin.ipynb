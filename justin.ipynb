{
 "cells": [
  {
   "cell_type": "markdown",
   "metadata": {},
   "source": [
    "# King Couty Real Estate"
   ]
  },
  {
   "cell_type": "markdown",
   "metadata": {},
   "source": [
    "# Table of Contents\n",
    "\n",
    "*[Feature Engineering](#feateng)<br>\n",
    "    \n",
    "*[Baseline Model](#basemod)<br>\n",
    "    \n",
    "*[Exploration](#exp)<br>\n",
    "    \n",
    "*[Improved Models](#impmods)<br>\n",
    "    **[Highest R-squared Model](#hir)<br>\n",
    "    **[Lowest Cond. No. Model with R-squared > .6](#abv6mod)<br>\n",
    "    **[Model with Renovation Features](#renomod)<br>\n",
    "    \n",
    "*[Non-Model Analysis](#nonmods)<br>\n",
    "    "
   ]
  },
  {
   "cell_type": "code",
   "execution_count": 1,
   "metadata": {},
   "outputs": [],
   "source": [
    "# Import libraries\n",
    "\n",
    "import itertools\n",
    "import numpy as np\n",
    "import pandas as pd \n",
    "from numbers import Number\n",
    "from scipy import stats\n",
    "import matplotlib.pyplot as plt\n",
    "import seaborn as sns\n",
    "import statsmodels.api as sm\n",
    "%matplotlib inline\n",
    "import warnings\n",
    "warnings.filterwarnings('ignore')\n",
    "\n",
    "from statsmodels.stats.outliers_influence import variance_inflation_factor\n",
    "\n",
    "from sklearn.preprocessing import StandardScaler, OneHotEncoder, OrdinalEncoder\n",
    "from sklearn.preprocessing import PolynomialFeatures, StandardScaler\n",
    "from sklearn.linear_model import LinearRegression\n",
    "import math"
   ]
  },
  {
   "cell_type": "code",
   "execution_count": 2,
   "metadata": {},
   "outputs": [],
   "source": [
    "# load data\n",
    "\n",
    "df = pd.read_csv('data/kc_house_data.csv')"
   ]
  },
  {
   "cell_type": "markdown",
   "metadata": {},
   "source": [
    "# Feature Engineering <a class=\"anchor\" id=\"feateng\"></a>"
   ]
  },
  {
   "cell_type": "code",
   "execution_count": 3,
   "metadata": {},
   "outputs": [],
   "source": [
    "# Drop nulls and remove rows with loacation outside of Washington state, reset index\n",
    "\n",
    "df = df.dropna()\n",
    "\n",
    "df = df[(df.lat > 47.087) &\n",
    "        (df.lat < 47.779) &\n",
    "        (df.long > -122.527) &\n",
    "        (df.long < -121.064)]\n",
    "\n",
    "df.reset_index(drop=True, inplace=True)"
   ]
  },
  {
   "cell_type": "code",
   "execution_count": 4,
   "metadata": {},
   "outputs": [],
   "source": [
    "# Create a column of mean prices by zip\n",
    "\n",
    "# Get zip code form address\n",
    "\n",
    "df_split = df.address.str.replace(',', '').str.split(' ')\n",
    "zips = []\n",
    "numbers = ['0', '1', '2', '3', '4', '5', '6', '7', '8', '9']\n",
    "for x in df_split:\n",
    "    for y in x:\n",
    "        if (y[0] == '9') & (len(y) == 5):\n",
    "            zips.append(y)\n",
    "for x in zips:\n",
    "    if x[1] != '8':\n",
    "        zips.remove(x)\n",
    "df['zips'] = pd.Series(zips)\n",
    "\n",
    "#Create dict of mean prices by zip code\n",
    "zips_avg_prices = df.groupby(df.zips).mean()['price']\n",
    "zips_mean_dict = zips_avg_prices.to_dict()\n",
    "\n",
    "# Map mean proce by zip into new column\n",
    "df['zip_mean'] = df['zips'].map(zips_mean_dict)\n",
    "df['zip_mean']\n",
    "\n",
    "# Create zip price mean category column\n",
    "\n",
    "price_cat = []\n",
    "\n",
    "for price in df['zip_mean']:\n",
    "    if price < 714997.7:\n",
    "        price_cat.append(1)\n",
    "    elif price < 1320000:\n",
    "        price_cat.append(2)\n",
    "    else:\n",
    "        price_cat.append(3)\n",
    "        \n",
    "df['price_cat'] = price_cat"
   ]
  },
  {
   "cell_type": "code",
   "execution_count": 5,
   "metadata": {},
   "outputs": [],
   "source": [
    "#Explore dataframe\n",
    "\n",
    "# df.head()\n",
    "# df.tail()\n",
    "# df.info()\n",
    "# df.describe()\n",
    "# df.columns"
   ]
  },
  {
   "cell_type": "code",
   "execution_count": 6,
   "metadata": {},
   "outputs": [
    {
     "data": {
      "text/plain": [
       "[('98039', 5319169.508474576),\n",
       " ('98004', 3706461.8291925467),\n",
       " ('98040', 2761960.3209169055),\n",
       " ('98005', 2166382.2359550563),\n",
       " ('98033', 2035934.7944078948),\n",
       " ('98112', 1933852.309446254),\n",
       " ('98075', 1903188.7250608273),\n",
       " ('98006', 1871561.5931558935),\n",
       " ('98074', 1707086.0702576113),\n",
       " ('98077', 1638786.7510204082),\n",
       " ('98050', 1600500.0),\n",
       " ('98102', 1589429.5347222222),\n",
       " ('98109', 1588213.3100775194),\n",
       " ('98052', 1564485.2394366197),\n",
       " ('98053', 1562473.554707379),\n",
       " ('98029', 1560072.0031152647),\n",
       " ('98024', 1539561.1228070175),\n",
       " ('98008', 1533385.7481108312),\n",
       " ('98199', 1528086.3609756099),\n",
       " ('98119', 1518790.539419087),\n",
       " ('98105', 1515511.4575757575),\n",
       " ('98072', 1493119.5247813412),\n",
       " ('98007', 1409664.344155844),\n",
       " ('98027', 1379831.4188481676),\n",
       " ('98177', 1341786.3189368772),\n",
       " ('98034', 1293053.0043541365),\n",
       " ('98122', 1229700.240909091),\n",
       " ('98011', 1205783.2413793104),\n",
       " ('98115', 1178231.2065789474),\n",
       " ('98065', 1173838.448630137),\n",
       " ('98116', 1126388.3850129198),\n",
       " ('98028', 1082302.8280802292),\n",
       " ('98117', 1078616.6724598932),\n",
       " ('98107', 1075068.135371179),\n",
       " ('98103', 1067624.2759526938),\n",
       " ('98045', 1061147.5643776825),\n",
       " ('98144', 1057844.9612756264),\n",
       " ('98059', 1057710.0943396227),\n",
       " ('98136', 1014345.4414715719),\n",
       " ('98056', 997294.1711538462),\n",
       " ('98070', 988423.3141361256),\n",
       " ('98014', 974062.8525641026),\n",
       " ('98019', 971689.0448979592),\n",
       " ('98051', 954064.3181818182),\n",
       " ('98125', 953587.36400818),\n",
       " ('98155', 930085.627184466),\n",
       " ('98372', 907475.0),\n",
       " ('98166', 902259.7674418605),\n",
       " ('98118', 847719.5516666666),\n",
       " ('98010', 834186.8375796179),\n",
       " ('98126', 810627.1568181819),\n",
       " ('98038', 806769.8121353559),\n",
       " ('98133', 791468.3795180722),\n",
       " ('98058', 753212.7170087977),\n",
       " ('98146', 746153.5771028037),\n",
       " ('98092', 721577.3530377669),\n",
       " ('98108', 714997.6754098361),\n",
       " ('98055', 679278.1788990826),\n",
       " ('98106', 671506.11786372),\n",
       " ('98042', 669698.0907258064),\n",
       " ('98178', 662886.5509138381),\n",
       " ('98148', 652131.8191489362),\n",
       " ('98022', 648528.5995623632),\n",
       " ('98057', 648481.7952755905),\n",
       " ('98030', 641674.4801061008),\n",
       " ('98031', 633819.4320754717),\n",
       " ('98188', 629437.55),\n",
       " ('98198', 621724.1388235294),\n",
       " ('98023', 618348.2690647482),\n",
       " ('98001', 616692.3386837881),\n",
       " ('98003', 606754.7113636363),\n",
       " ('98032', 581496.2010869565),\n",
       " ('98354', 574159.2608695652),\n",
       " ('98168', 538955.4778067885),\n",
       " ('98251', 515300.0),\n",
       " ('98047', 492911.7922077922),\n",
       " ('98002', 475426.217630854),\n",
       " ('98288', 457268.75),\n",
       " ('98422', 312750.0),\n",
       " ('98224', 254666.66666666666)]"
      ]
     },
     "execution_count": 6,
     "metadata": {},
     "output_type": "execute_result"
    }
   ],
   "source": [
    "# Find the zipcode with the highest  \n",
    "sorted(zips_mean_dict.items(), key=lambda x:x[1], reverse=True)"
   ]
  },
  {
   "cell_type": "code",
   "execution_count": 7,
   "metadata": {},
   "outputs": [],
   "source": [
    "# Encode ordinals\n",
    "\n",
    "data_categorical = pd.DataFrame(df.select_dtypes(\"object\")).drop(['date','address'], axis=1)\n",
    "ordinal_data = data_categorical[['view', 'condition', 'grade']]\n",
    "\n",
    "# Ordinal encode 'view' and create df for concat\n",
    "\n",
    "view_ord_cats = [['NONE', 'FAIR', 'AVERAGE', 'GOOD', 'EXCELLENT']]\n",
    "\n",
    "view_ords = OrdinalEncoder(categories=view_ord_cats)\n",
    "\n",
    "view_ords.fit(pd.DataFrame(ordinal_data['view']))\n",
    "view_encoded = view_ords.transform(pd.DataFrame(ordinal_data['view']))\n",
    "view_encoded\n",
    "\n",
    "view_enc = pd.DataFrame(view_encoded, columns=['view_enc'])\n",
    "\n",
    "# Ordinal encode 'condition' and create df for concat\n",
    "\n",
    "condition_ord_cats = [['Poor', 'Fair', 'Average', 'Good', 'Very Good']]\n",
    "\n",
    "cond_ords = OrdinalEncoder(categories=condition_ord_cats)\n",
    "cond_ords.fit(pd.DataFrame(ordinal_data['condition']))\n",
    "cond_encoded = cond_ords.transform(pd.DataFrame(ordinal_data['condition']))\n",
    "cond_encoded\n",
    "\n",
    "cond_enc = pd.DataFrame(cond_encoded, columns=['cond_enc'])\n",
    "cond_enc\n",
    "\n",
    "# Ordinal encode 'grade' and create df for concat\n",
    "\n",
    "grade_ord_cats = [['1', '2 Substandard','3 Poor', '4 Low', '5 Fair', '6 Low Average', '7 Average', '8 Good', '9 Better', '10 Very Good', '11 Excellent', '12 Luxury', '13 Mansion']]\n",
    "\n",
    "grade_ords = OrdinalEncoder(categories=grade_ord_cats)\n",
    "grade_ords.fit(pd.DataFrame(ordinal_data['grade']))\n",
    "grade_encoded = grade_ords.transform(pd.DataFrame(ordinal_data['grade']))\n",
    "grade_encoded\n",
    "\n",
    "grade_enc = pd.DataFrame(grade_encoded, columns=['grade_enc'])"
   ]
  },
  {
   "cell_type": "code",
   "execution_count": 8,
   "metadata": {},
   "outputs": [],
   "source": [
    "# Create dummy columns of non-ordinal category data\n",
    "\n",
    "cat_data = pd.DataFrame(df.select_dtypes(\"object\")).drop(['date','address', 'zips'], axis=1)\n",
    "\n",
    "cat_dums = pd.get_dummies(cat_data)\n",
    "cat_dums = cat_dums.add_suffix('_dum')"
   ]
  },
  {
   "cell_type": "code",
   "execution_count": 9,
   "metadata": {},
   "outputs": [
    {
     "data": {
      "text/html": [
       "<div>\n",
       "<style scoped>\n",
       "    .dataframe tbody tr th:only-of-type {\n",
       "        vertical-align: middle;\n",
       "    }\n",
       "\n",
       "    .dataframe tbody tr th {\n",
       "        vertical-align: top;\n",
       "    }\n",
       "\n",
       "    .dataframe thead th {\n",
       "        text-align: right;\n",
       "    }\n",
       "</style>\n",
       "<table border=\"1\" class=\"dataframe\">\n",
       "  <thead>\n",
       "    <tr style=\"text-align: right;\">\n",
       "      <th></th>\n",
       "      <th>id</th>\n",
       "      <th>price</th>\n",
       "      <th>bedrooms</th>\n",
       "      <th>bathrooms</th>\n",
       "      <th>sqft_living</th>\n",
       "      <th>sqft_lot</th>\n",
       "      <th>floors</th>\n",
       "      <th>sqft_above</th>\n",
       "      <th>sqft_basement</th>\n",
       "      <th>sqft_garage</th>\n",
       "      <th>...</th>\n",
       "      <th>heat_source_Electricity/Solar_dum</th>\n",
       "      <th>heat_source_Gas_dum</th>\n",
       "      <th>heat_source_Gas/Solar_dum</th>\n",
       "      <th>heat_source_Oil_dum</th>\n",
       "      <th>heat_source_Oil/Solar_dum</th>\n",
       "      <th>heat_source_Other_dum</th>\n",
       "      <th>sewer_system_PRIVATE_dum</th>\n",
       "      <th>sewer_system_PRIVATE RESTRICTED_dum</th>\n",
       "      <th>sewer_system_PUBLIC_dum</th>\n",
       "      <th>sewer_system_PUBLIC RESTRICTED_dum</th>\n",
       "    </tr>\n",
       "  </thead>\n",
       "  <tbody>\n",
       "    <tr>\n",
       "      <th>0</th>\n",
       "      <td>7399300360</td>\n",
       "      <td>675000.0</td>\n",
       "      <td>4</td>\n",
       "      <td>1.0</td>\n",
       "      <td>1180</td>\n",
       "      <td>7140</td>\n",
       "      <td>1.0</td>\n",
       "      <td>1180</td>\n",
       "      <td>0</td>\n",
       "      <td>0</td>\n",
       "      <td>...</td>\n",
       "      <td>0</td>\n",
       "      <td>1</td>\n",
       "      <td>0</td>\n",
       "      <td>0</td>\n",
       "      <td>0</td>\n",
       "      <td>0</td>\n",
       "      <td>0</td>\n",
       "      <td>0</td>\n",
       "      <td>1</td>\n",
       "      <td>0</td>\n",
       "    </tr>\n",
       "    <tr>\n",
       "      <th>1</th>\n",
       "      <td>8910500230</td>\n",
       "      <td>920000.0</td>\n",
       "      <td>5</td>\n",
       "      <td>2.5</td>\n",
       "      <td>2770</td>\n",
       "      <td>6703</td>\n",
       "      <td>1.0</td>\n",
       "      <td>1570</td>\n",
       "      <td>1570</td>\n",
       "      <td>0</td>\n",
       "      <td>...</td>\n",
       "      <td>0</td>\n",
       "      <td>0</td>\n",
       "      <td>0</td>\n",
       "      <td>1</td>\n",
       "      <td>0</td>\n",
       "      <td>0</td>\n",
       "      <td>0</td>\n",
       "      <td>0</td>\n",
       "      <td>1</td>\n",
       "      <td>0</td>\n",
       "    </tr>\n",
       "    <tr>\n",
       "      <th>2</th>\n",
       "      <td>1180000275</td>\n",
       "      <td>311000.0</td>\n",
       "      <td>6</td>\n",
       "      <td>2.0</td>\n",
       "      <td>2880</td>\n",
       "      <td>6156</td>\n",
       "      <td>1.0</td>\n",
       "      <td>1580</td>\n",
       "      <td>1580</td>\n",
       "      <td>0</td>\n",
       "      <td>...</td>\n",
       "      <td>0</td>\n",
       "      <td>1</td>\n",
       "      <td>0</td>\n",
       "      <td>0</td>\n",
       "      <td>0</td>\n",
       "      <td>0</td>\n",
       "      <td>0</td>\n",
       "      <td>0</td>\n",
       "      <td>1</td>\n",
       "      <td>0</td>\n",
       "    </tr>\n",
       "    <tr>\n",
       "      <th>3</th>\n",
       "      <td>1604601802</td>\n",
       "      <td>775000.0</td>\n",
       "      <td>3</td>\n",
       "      <td>3.0</td>\n",
       "      <td>2160</td>\n",
       "      <td>1400</td>\n",
       "      <td>2.0</td>\n",
       "      <td>1090</td>\n",
       "      <td>1070</td>\n",
       "      <td>200</td>\n",
       "      <td>...</td>\n",
       "      <td>0</td>\n",
       "      <td>1</td>\n",
       "      <td>0</td>\n",
       "      <td>0</td>\n",
       "      <td>0</td>\n",
       "      <td>0</td>\n",
       "      <td>0</td>\n",
       "      <td>0</td>\n",
       "      <td>1</td>\n",
       "      <td>0</td>\n",
       "    </tr>\n",
       "    <tr>\n",
       "      <th>4</th>\n",
       "      <td>8562780790</td>\n",
       "      <td>592500.0</td>\n",
       "      <td>2</td>\n",
       "      <td>2.0</td>\n",
       "      <td>1120</td>\n",
       "      <td>758</td>\n",
       "      <td>2.0</td>\n",
       "      <td>1120</td>\n",
       "      <td>550</td>\n",
       "      <td>550</td>\n",
       "      <td>...</td>\n",
       "      <td>0</td>\n",
       "      <td>0</td>\n",
       "      <td>0</td>\n",
       "      <td>0</td>\n",
       "      <td>0</td>\n",
       "      <td>0</td>\n",
       "      <td>0</td>\n",
       "      <td>0</td>\n",
       "      <td>1</td>\n",
       "      <td>0</td>\n",
       "    </tr>\n",
       "    <tr>\n",
       "      <th>...</th>\n",
       "      <td>...</td>\n",
       "      <td>...</td>\n",
       "      <td>...</td>\n",
       "      <td>...</td>\n",
       "      <td>...</td>\n",
       "      <td>...</td>\n",
       "      <td>...</td>\n",
       "      <td>...</td>\n",
       "      <td>...</td>\n",
       "      <td>...</td>\n",
       "      <td>...</td>\n",
       "      <td>...</td>\n",
       "      <td>...</td>\n",
       "      <td>...</td>\n",
       "      <td>...</td>\n",
       "      <td>...</td>\n",
       "      <td>...</td>\n",
       "      <td>...</td>\n",
       "      <td>...</td>\n",
       "      <td>...</td>\n",
       "      <td>...</td>\n",
       "    </tr>\n",
       "    <tr>\n",
       "      <th>29172</th>\n",
       "      <td>7834800180</td>\n",
       "      <td>1555000.0</td>\n",
       "      <td>5</td>\n",
       "      <td>2.0</td>\n",
       "      <td>1910</td>\n",
       "      <td>4000</td>\n",
       "      <td>1.5</td>\n",
       "      <td>1600</td>\n",
       "      <td>1130</td>\n",
       "      <td>0</td>\n",
       "      <td>...</td>\n",
       "      <td>0</td>\n",
       "      <td>0</td>\n",
       "      <td>0</td>\n",
       "      <td>1</td>\n",
       "      <td>0</td>\n",
       "      <td>0</td>\n",
       "      <td>0</td>\n",
       "      <td>0</td>\n",
       "      <td>1</td>\n",
       "      <td>0</td>\n",
       "    </tr>\n",
       "    <tr>\n",
       "      <th>29173</th>\n",
       "      <td>194000695</td>\n",
       "      <td>1313000.0</td>\n",
       "      <td>3</td>\n",
       "      <td>2.0</td>\n",
       "      <td>2020</td>\n",
       "      <td>5800</td>\n",
       "      <td>2.0</td>\n",
       "      <td>2020</td>\n",
       "      <td>0</td>\n",
       "      <td>0</td>\n",
       "      <td>...</td>\n",
       "      <td>0</td>\n",
       "      <td>1</td>\n",
       "      <td>0</td>\n",
       "      <td>0</td>\n",
       "      <td>0</td>\n",
       "      <td>0</td>\n",
       "      <td>0</td>\n",
       "      <td>0</td>\n",
       "      <td>1</td>\n",
       "      <td>0</td>\n",
       "    </tr>\n",
       "    <tr>\n",
       "      <th>29174</th>\n",
       "      <td>7960100080</td>\n",
       "      <td>800000.0</td>\n",
       "      <td>3</td>\n",
       "      <td>2.0</td>\n",
       "      <td>1620</td>\n",
       "      <td>3600</td>\n",
       "      <td>1.0</td>\n",
       "      <td>940</td>\n",
       "      <td>920</td>\n",
       "      <td>240</td>\n",
       "      <td>...</td>\n",
       "      <td>0</td>\n",
       "      <td>1</td>\n",
       "      <td>0</td>\n",
       "      <td>0</td>\n",
       "      <td>0</td>\n",
       "      <td>0</td>\n",
       "      <td>0</td>\n",
       "      <td>0</td>\n",
       "      <td>1</td>\n",
       "      <td>0</td>\n",
       "    </tr>\n",
       "    <tr>\n",
       "      <th>29175</th>\n",
       "      <td>2781280080</td>\n",
       "      <td>775000.0</td>\n",
       "      <td>3</td>\n",
       "      <td>2.5</td>\n",
       "      <td>2570</td>\n",
       "      <td>2889</td>\n",
       "      <td>2.0</td>\n",
       "      <td>1830</td>\n",
       "      <td>740</td>\n",
       "      <td>480</td>\n",
       "      <td>...</td>\n",
       "      <td>0</td>\n",
       "      <td>1</td>\n",
       "      <td>0</td>\n",
       "      <td>0</td>\n",
       "      <td>0</td>\n",
       "      <td>0</td>\n",
       "      <td>0</td>\n",
       "      <td>0</td>\n",
       "      <td>1</td>\n",
       "      <td>0</td>\n",
       "    </tr>\n",
       "    <tr>\n",
       "      <th>29176</th>\n",
       "      <td>9557800100</td>\n",
       "      <td>500000.0</td>\n",
       "      <td>3</td>\n",
       "      <td>1.5</td>\n",
       "      <td>1200</td>\n",
       "      <td>11058</td>\n",
       "      <td>1.0</td>\n",
       "      <td>1200</td>\n",
       "      <td>0</td>\n",
       "      <td>420</td>\n",
       "      <td>...</td>\n",
       "      <td>0</td>\n",
       "      <td>0</td>\n",
       "      <td>0</td>\n",
       "      <td>1</td>\n",
       "      <td>0</td>\n",
       "      <td>0</td>\n",
       "      <td>0</td>\n",
       "      <td>0</td>\n",
       "      <td>1</td>\n",
       "      <td>0</td>\n",
       "    </tr>\n",
       "  </tbody>\n",
       "</table>\n",
       "<p>29177 rows × 60 columns</p>\n",
       "</div>"
      ],
      "text/plain": [
       "               id      price  bedrooms  bathrooms  sqft_living  sqft_lot  \\\n",
       "0      7399300360   675000.0         4        1.0         1180      7140   \n",
       "1      8910500230   920000.0         5        2.5         2770      6703   \n",
       "2      1180000275   311000.0         6        2.0         2880      6156   \n",
       "3      1604601802   775000.0         3        3.0         2160      1400   \n",
       "4      8562780790   592500.0         2        2.0         1120       758   \n",
       "...           ...        ...       ...        ...          ...       ...   \n",
       "29172  7834800180  1555000.0         5        2.0         1910      4000   \n",
       "29173   194000695  1313000.0         3        2.0         2020      5800   \n",
       "29174  7960100080   800000.0         3        2.0         1620      3600   \n",
       "29175  2781280080   775000.0         3        2.5         2570      2889   \n",
       "29176  9557800100   500000.0         3        1.5         1200     11058   \n",
       "\n",
       "       floors  sqft_above  sqft_basement  sqft_garage  ...  \\\n",
       "0         1.0        1180              0            0  ...   \n",
       "1         1.0        1570           1570            0  ...   \n",
       "2         1.0        1580           1580            0  ...   \n",
       "3         2.0        1090           1070          200  ...   \n",
       "4         2.0        1120            550          550  ...   \n",
       "...       ...         ...            ...          ...  ...   \n",
       "29172     1.5        1600           1130            0  ...   \n",
       "29173     2.0        2020              0            0  ...   \n",
       "29174     1.0         940            920          240  ...   \n",
       "29175     2.0        1830            740          480  ...   \n",
       "29176     1.0        1200              0          420  ...   \n",
       "\n",
       "       heat_source_Electricity/Solar_dum  heat_source_Gas_dum  \\\n",
       "0                                      0                    1   \n",
       "1                                      0                    0   \n",
       "2                                      0                    1   \n",
       "3                                      0                    1   \n",
       "4                                      0                    0   \n",
       "...                                  ...                  ...   \n",
       "29172                                  0                    0   \n",
       "29173                                  0                    1   \n",
       "29174                                  0                    1   \n",
       "29175                                  0                    1   \n",
       "29176                                  0                    0   \n",
       "\n",
       "       heat_source_Gas/Solar_dum  heat_source_Oil_dum  \\\n",
       "0                              0                    0   \n",
       "1                              0                    1   \n",
       "2                              0                    0   \n",
       "3                              0                    0   \n",
       "4                              0                    0   \n",
       "...                          ...                  ...   \n",
       "29172                          0                    1   \n",
       "29173                          0                    0   \n",
       "29174                          0                    0   \n",
       "29175                          0                    0   \n",
       "29176                          0                    1   \n",
       "\n",
       "       heat_source_Oil/Solar_dum  heat_source_Other_dum  \\\n",
       "0                              0                      0   \n",
       "1                              0                      0   \n",
       "2                              0                      0   \n",
       "3                              0                      0   \n",
       "4                              0                      0   \n",
       "...                          ...                    ...   \n",
       "29172                          0                      0   \n",
       "29173                          0                      0   \n",
       "29174                          0                      0   \n",
       "29175                          0                      0   \n",
       "29176                          0                      0   \n",
       "\n",
       "       sewer_system_PRIVATE_dum sewer_system_PRIVATE RESTRICTED_dum  \\\n",
       "0                             0                                   0   \n",
       "1                             0                                   0   \n",
       "2                             0                                   0   \n",
       "3                             0                                   0   \n",
       "4                             0                                   0   \n",
       "...                         ...                                 ...   \n",
       "29172                         0                                   0   \n",
       "29173                         0                                   0   \n",
       "29174                         0                                   0   \n",
       "29175                         0                                   0   \n",
       "29176                         0                                   0   \n",
       "\n",
       "       sewer_system_PUBLIC_dum  sewer_system_PUBLIC RESTRICTED_dum  \n",
       "0                            1                                   0  \n",
       "1                            1                                   0  \n",
       "2                            1                                   0  \n",
       "3                            1                                   0  \n",
       "4                            1                                   0  \n",
       "...                        ...                                 ...  \n",
       "29172                        1                                   0  \n",
       "29173                        1                                   0  \n",
       "29174                        1                                   0  \n",
       "29175                        1                                   0  \n",
       "29176                        1                                   0  \n",
       "\n",
       "[29177 rows x 60 columns]"
      ]
     },
     "execution_count": 9,
     "metadata": {},
     "output_type": "execute_result"
    }
   ],
   "source": [
    "# Concatonate numerical and encoded features\n",
    "\n",
    "# Concat ordinal dfs\n",
    "ords_conc = pd.concat([view_enc, cond_enc, grade_enc], axis=1)\n",
    "\n",
    "# Get numerical data\n",
    "data_numerical = df._get_numeric_data()\n",
    "data_numerical\n",
    "\n",
    "#Keep Zips\n",
    "\n",
    "zips = df['zips']\n",
    "\n",
    "#Concatonate all\n",
    "concat_all = pd.concat([data_numerical, zips, ords_conc, cat_dums], axis=1)\n",
    "\n",
    "# Set df to new df (concat_all)\n",
    "df = concat_all\n",
    "df"
   ]
  },
  {
   "cell_type": "code",
   "execution_count": 10,
   "metadata": {},
   "outputs": [],
   "source": [
    "# Create binary for grade above average\n",
    "\n",
    "gr_above_avg = []\n",
    "for x in df['grade_enc']:\n",
    "    if x > 7:\n",
    "        gr_above_avg.append(1)\n",
    "    else:\n",
    "        gr_above_avg.append(0)\n",
    "        \n",
    "df['gr_above_avg'] = pd.Series(gr_above_avg)\n",
    "        \n",
    "cond_above_avg = []\n",
    "for x in df['cond_enc']:\n",
    "    if x > 2:\n",
    "        cond_above_avg.append(1)\n",
    "    else:\n",
    "        cond_above_avg.append(0)\n",
    "\n",
    "df['cond_above_avg'] = pd.Series(cond_above_avg)\n",
    "        \n",
    "view_above_avg = []\n",
    "for x in df['view_enc']:\n",
    "    if x > 2:\n",
    "        view_above_avg.append(1)\n",
    "    else:\n",
    "        view_above_avg.append(0)\n",
    "\n",
    "df['view_above_avg'] = pd.Series(view_above_avg)"
   ]
  },
  {
   "cell_type": "code",
   "execution_count": 11,
   "metadata": {},
   "outputs": [],
   "source": [
    "# Create price categories from mean price of zips\n",
    "\n",
    "price_cat = []\n",
    "\n",
    "for price in df['zip_mean']:\n",
    "    if price < 714997.7:\n",
    "        price_cat.append(1)\n",
    "    elif price < 1320000:\n",
    "        price_cat.append(2)\n",
    "    else:\n",
    "        price_cat.append(3)\n",
    "        \n",
    "df['price_cat'] = price_cat"
   ]
  },
  {
   "cell_type": "code",
   "execution_count": 12,
   "metadata": {},
   "outputs": [],
   "source": [
    "# Create square foot categories from sqft_living\n",
    "\n",
    "sqft_cat = []\n",
    "\n",
    "for sqft in df['sqft_living']:\n",
    "    if sqft < 1000:\n",
    "        sqft_cat.append(1)\n",
    "    elif sqft < 1500:\n",
    "        sqft_cat.append(2)\n",
    "    elif sqft < 2000:\n",
    "        sqft_cat.append(3)\n",
    "    elif sqft < 2500:\n",
    "        sqft_cat.append(4)\n",
    "    elif sqft < 3000:\n",
    "        sqft_cat.append(5)\n",
    "    elif sqft < 3500:\n",
    "        sqft_cat.append(6)\n",
    "    elif sqft < 4000:\n",
    "        sqft_cat.append(7)\n",
    "    elif sqft < 4500:\n",
    "        sqft_cat.append(8)\n",
    "    else:\n",
    "        sqft_cat.append(9)\n",
    "        \n",
    "df['sqft_cat'] = sqft_cat"
   ]
  },
  {
   "cell_type": "code",
   "execution_count": 13,
   "metadata": {},
   "outputs": [],
   "source": [
    "# Create binary for house features - garage, basement, patio\n",
    "\n",
    "df['has_garage'] = [1 if x > 0 else 0 for x in df['sqft_garage']]\n",
    "df['has_basement'] = [1 if x > 0 else 0 for x in df['sqft_basement']]\n",
    "df['has_patio'] = [1 if x > 0 else 0 for x in df['sqft_patio']]"
   ]
  },
  {
   "cell_type": "code",
   "execution_count": 14,
   "metadata": {},
   "outputs": [],
   "source": [
    "# Create feature of distance from a point of high prices\n",
    "\n",
    "df_map = df.copy()\n",
    "df_map['locat'] = list(zip(df_map.long, df_map.lat))\n",
    "\n",
    "def haversineSeattle(coord):\n",
    "    lon, lat = coord\n",
    "    lonS, latS = (-122.236572, 47.626480)\n",
    "    \n",
    "    R = 6371000  # radius of Earth in meters\n",
    "    phi = math.radians(lat)\n",
    "    phi_S = math.radians(latS)\n",
    "    \n",
    "    delta_phi = math.radians(latS - lat)\n",
    "    delta_lambda = math.radians(lonS - lon)\n",
    "    a = math.sin(delta_phi / 2.0) ** 2 + math.cos(phi) * math.cos(phi_S) * math.sin(delta_lambda / 2.0) ** 2\n",
    "    \n",
    "    c = 2 * math.atan2(math.sqrt(a), math.sqrt(1 - a))\n",
    "    \n",
    "    km = (R * c) / 1000  # output distance in kilometers\n",
    "\n",
    "    km = round(km, 3)\n",
    "\n",
    "    return km\n",
    "\n",
    "distance = []\n",
    "for x in df_map.locat:\n",
    "    distance.append(haversineSeattle(x))\n",
    "df['dist_high_zip'] = pd.Series(distance)"
   ]
  },
  {
   "cell_type": "code",
   "execution_count": 15,
   "metadata": {},
   "outputs": [],
   "source": [
    "# Remove outliers\n",
    "\n",
    "# Create function that identifies outliers\n",
    "\n",
    "def find_outliers_IQR(df):\n",
    "   q1=df.quantile(0.25)\n",
    "   q3=df.quantile(0.75)\n",
    "   IQR=q3-q1\n",
    "   outliers = df[((df<(q1-1.5*IQR)) | (df>(q3+1.5*IQR)))]\n",
    "   return outliers\n",
    "\n",
    "def get_outliers(df):\n",
    "    outliers = find_outliers_IQR(df)\n",
    "    print('number of outliers: '+ str(len(outliers)))\n",
    "    print('max outlier value: '+ str(outliers.max()))\n",
    "    print('min outlier value: '+ str(outliers.min()))\n",
    "    return print(outliers)\n",
    "\n",
    "# Remove rows with outliers from dataframe. Currently min outliers are hard coded below after running get_outliers function\n",
    "\n",
    "df_less_outs = df[df['price'] < 2309000]\n",
    "df_less_outs = df_less_outs[df_less_outs['sqft_living'] < 4450]\n",
    "df_less_outs = df_less_outs[df_less_outs['sqft_above'] < 3950]\n",
    "df = df_less_outs"
   ]
  },
  {
   "cell_type": "code",
   "execution_count": 16,
   "metadata": {},
   "outputs": [
    {
     "data": {
      "text/plain": [
       "price                      1.000000\n",
       "zip_mean                   0.635232\n",
       "price_cat                  0.600768\n",
       "sqft_living                0.550074\n",
       "sqft_cat                   0.542344\n",
       "grade_enc                  0.536595\n",
       "sqft_above                 0.456631\n",
       "lat                        0.435948\n",
       "gr_above_avg               0.431669\n",
       "bathrooms                  0.420699\n",
       "dist_high_zip              0.396717\n",
       "grade_9 Better_dum         0.336263\n",
       "bedrooms                   0.301194\n",
       "grade_7 Average_dum        0.265335\n",
       "grade_6 Low Average_dum    0.254496\n",
       "Name: price, dtype: float64"
      ]
     },
     "execution_count": 16,
     "metadata": {},
     "output_type": "execute_result"
    }
   ],
   "source": [
    "# Check correlation to price\n",
    "\n",
    "df.corr()['price'].map(abs).sort_values(ascending=False)[0:15]"
   ]
  },
  {
   "cell_type": "markdown",
   "metadata": {},
   "source": [
    "# Baseline Model <a class=\"anchor\" id=\"#basemod\"></a>"
   ]
  },
  {
   "cell_type": "code",
   "execution_count": 17,
   "metadata": {},
   "outputs": [
    {
     "data": {
      "text/html": [
       "<table class=\"simpletable\">\n",
       "<caption>OLS Regression Results</caption>\n",
       "<tr>\n",
       "  <th>Dep. Variable:</th>          <td>price</td>      <th>  R-squared:         </th>  <td>   0.404</td>  \n",
       "</tr>\n",
       "<tr>\n",
       "  <th>Model:</th>                   <td>OLS</td>       <th>  Adj. R-squared:    </th>  <td>   0.403</td>  \n",
       "</tr>\n",
       "<tr>\n",
       "  <th>Method:</th>             <td>Least Squares</td>  <th>  F-statistic:       </th>  <td>1.823e+04</td> \n",
       "</tr>\n",
       "<tr>\n",
       "  <th>Date:</th>             <td>Fri, 09 Dec 2022</td> <th>  Prob (F-statistic):</th>   <td>  0.00</td>   \n",
       "</tr>\n",
       "<tr>\n",
       "  <th>Time:</th>                 <td>11:34:07</td>     <th>  Log-Likelihood:    </th> <td>-3.8121e+05</td>\n",
       "</tr>\n",
       "<tr>\n",
       "  <th>No. Observations:</th>      <td> 26951</td>      <th>  AIC:               </th>  <td>7.624e+05</td> \n",
       "</tr>\n",
       "<tr>\n",
       "  <th>Df Residuals:</th>          <td> 26949</td>      <th>  BIC:               </th>  <td>7.624e+05</td> \n",
       "</tr>\n",
       "<tr>\n",
       "  <th>Df Model:</th>              <td>     1</td>      <th>                     </th>      <td> </td>     \n",
       "</tr>\n",
       "<tr>\n",
       "  <th>Covariance Type:</th>      <td>nonrobust</td>    <th>                     </th>      <td> </td>     \n",
       "</tr>\n",
       "</table>\n",
       "<table class=\"simpletable\">\n",
       "<tr>\n",
       "      <td></td>        <th>coef</th>     <th>std err</th>      <th>t</th>      <th>P>|t|</th>  <th>[0.025</th>    <th>0.975]</th>  \n",
       "</tr>\n",
       "<tr>\n",
       "  <th>const</th>    <td> 2.819e+05</td> <td> 5285.936</td> <td>   53.325</td> <td> 0.000</td> <td> 2.72e+05</td> <td> 2.92e+05</td>\n",
       "</tr>\n",
       "<tr>\n",
       "  <th>zip_mean</th> <td>    0.6300</td> <td>    0.005</td> <td>  135.022</td> <td> 0.000</td> <td>    0.621</td> <td>    0.639</td>\n",
       "</tr>\n",
       "</table>\n",
       "<table class=\"simpletable\">\n",
       "<tr>\n",
       "  <th>Omnibus:</th>       <td>2462.360</td> <th>  Durbin-Watson:     </th> <td>   1.982</td>\n",
       "</tr>\n",
       "<tr>\n",
       "  <th>Prob(Omnibus):</th>  <td> 0.000</td>  <th>  Jarque-Bera (JB):  </th> <td>5335.459</td>\n",
       "</tr>\n",
       "<tr>\n",
       "  <th>Skew:</th>           <td> 0.584</td>  <th>  Prob(JB):          </th> <td>    0.00</td>\n",
       "</tr>\n",
       "<tr>\n",
       "  <th>Kurtosis:</th>       <td> 4.840</td>  <th>  Cond. No.          </th> <td>2.92e+06</td>\n",
       "</tr>\n",
       "</table><br/><br/>Notes:<br/>[1] Standard Errors assume that the covariance matrix of the errors is correctly specified.<br/>[2] The condition number is large, 2.92e+06. This might indicate that there are<br/>strong multicollinearity or other numerical problems."
      ],
      "text/plain": [
       "<class 'statsmodels.iolib.summary.Summary'>\n",
       "\"\"\"\n",
       "                            OLS Regression Results                            \n",
       "==============================================================================\n",
       "Dep. Variable:                  price   R-squared:                       0.404\n",
       "Model:                            OLS   Adj. R-squared:                  0.403\n",
       "Method:                 Least Squares   F-statistic:                 1.823e+04\n",
       "Date:                Fri, 09 Dec 2022   Prob (F-statistic):               0.00\n",
       "Time:                        11:34:07   Log-Likelihood:            -3.8121e+05\n",
       "No. Observations:               26951   AIC:                         7.624e+05\n",
       "Df Residuals:                   26949   BIC:                         7.624e+05\n",
       "Df Model:                           1                                         \n",
       "Covariance Type:            nonrobust                                         \n",
       "==============================================================================\n",
       "                 coef    std err          t      P>|t|      [0.025      0.975]\n",
       "------------------------------------------------------------------------------\n",
       "const       2.819e+05   5285.936     53.325      0.000    2.72e+05    2.92e+05\n",
       "zip_mean       0.6300      0.005    135.022      0.000       0.621       0.639\n",
       "==============================================================================\n",
       "Omnibus:                     2462.360   Durbin-Watson:                   1.982\n",
       "Prob(Omnibus):                  0.000   Jarque-Bera (JB):             5335.459\n",
       "Skew:                           0.584   Prob(JB):                         0.00\n",
       "Kurtosis:                       4.840   Cond. No.                     2.92e+06\n",
       "==============================================================================\n",
       "\n",
       "Notes:\n",
       "[1] Standard Errors assume that the covariance matrix of the errors is correctly specified.\n",
       "[2] The condition number is large, 2.92e+06. This might indicate that there are\n",
       "strong multicollinearity or other numerical problems.\n",
       "\"\"\""
      ]
     },
     "execution_count": 17,
     "metadata": {},
     "output_type": "execute_result"
    }
   ],
   "source": [
    "# Run baseline model of highest correlated feature\n",
    "\n",
    "y = df['price']\n",
    "X = sm.add_constant(df['zip_mean'])\n",
    "\n",
    "results = sm.OLS(y,X).fit()\n",
    "results.summary()"
   ]
  },
  {
   "cell_type": "code",
   "execution_count": 18,
   "metadata": {},
   "outputs": [
    {
     "data": {
      "text/plain": [
       "<AxesSubplot:>"
      ]
     },
     "execution_count": 18,
     "metadata": {},
     "output_type": "execute_result"
    },
    {
     "data": {
      "image/png": "[encoded data removed]",
      "text/plain": [
       "<Figure size 432x288 with 1 Axes>"
      ]
     },
     "metadata": {
      "needs_background": "light"
     },
     "output_type": "display_data"
    }
   ],
   "source": [
    "# Check distrobution of \n",
    "\n",
    "y.hist(bins=50)"
   ]
  },
  {
   "cell_type": "code",
   "execution_count": 19,
   "metadata": {},
   "outputs": [
    {
     "data": {
      "image/png": "[encoded data removed]",
      "text/plain": [
       "<Figure size 432x288 with 1 Axes>"
      ]
     },
     "metadata": {
      "needs_background": "light"
     },
     "output_type": "display_data"
    }
   ],
   "source": [
    "y_scld = np.log(y)\n",
    "y_scld.hist();"
   ]
  },
  {
   "cell_type": "code",
   "execution_count": 20,
   "metadata": {},
   "outputs": [
    {
     "data": {
      "text/html": [
       "<table class=\"simpletable\">\n",
       "<caption>OLS Regression Results</caption>\n",
       "<tr>\n",
       "  <th>Dep. Variable:</th>          <td>price</td>      <th>  R-squared:         </th> <td>   0.258</td> \n",
       "</tr>\n",
       "<tr>\n",
       "  <th>Model:</th>                   <td>OLS</td>       <th>  Adj. R-squared:    </th> <td>   0.258</td> \n",
       "</tr>\n",
       "<tr>\n",
       "  <th>Method:</th>             <td>Least Squares</td>  <th>  F-statistic:       </th> <td>   9372.</td> \n",
       "</tr>\n",
       "<tr>\n",
       "  <th>Date:</th>             <td>Fri, 09 Dec 2022</td> <th>  Prob (F-statistic):</th>  <td>  0.00</td>  \n",
       "</tr>\n",
       "<tr>\n",
       "  <th>Time:</th>                 <td>11:34:09</td>     <th>  Log-Likelihood:    </th> <td> -14892.</td> \n",
       "</tr>\n",
       "<tr>\n",
       "  <th>No. Observations:</th>      <td> 26951</td>      <th>  AIC:               </th> <td>2.979e+04</td>\n",
       "</tr>\n",
       "<tr>\n",
       "  <th>Df Residuals:</th>          <td> 26949</td>      <th>  BIC:               </th> <td>2.980e+04</td>\n",
       "</tr>\n",
       "<tr>\n",
       "  <th>Df Model:</th>              <td>     1</td>      <th>                     </th>     <td> </td>    \n",
       "</tr>\n",
       "<tr>\n",
       "  <th>Covariance Type:</th>      <td>nonrobust</td>    <th>                     </th>     <td> </td>    \n",
       "</tr>\n",
       "</table>\n",
       "<table class=\"simpletable\">\n",
       "<tr>\n",
       "       <td></td>          <th>coef</th>     <th>std err</th>      <th>t</th>      <th>P>|t|</th>  <th>[0.025</th>    <th>0.975]</th>  \n",
       "</tr>\n",
       "<tr>\n",
       "  <th>const</th>       <td>   12.9915</td> <td>    0.007</td> <td> 1801.300</td> <td> 0.000</td> <td>   12.977</td> <td>   13.006</td>\n",
       "</tr>\n",
       "<tr>\n",
       "  <th>sqft_living</th> <td>    0.0003</td> <td> 3.41e-06</td> <td>   96.810</td> <td> 0.000</td> <td>    0.000</td> <td>    0.000</td>\n",
       "</tr>\n",
       "</table>\n",
       "<table class=\"simpletable\">\n",
       "<tr>\n",
       "  <th>Omnibus:</th>       <td>7740.531</td> <th>  Durbin-Watson:     </th> <td>   2.017</td> \n",
       "</tr>\n",
       "<tr>\n",
       "  <th>Prob(Omnibus):</th>  <td> 0.000</td>  <th>  Jarque-Bera (JB):  </th> <td>47049.038</td>\n",
       "</tr>\n",
       "<tr>\n",
       "  <th>Skew:</th>           <td>-1.242</td>  <th>  Prob(JB):          </th> <td>    0.00</td> \n",
       "</tr>\n",
       "<tr>\n",
       "  <th>Kurtosis:</th>       <td> 8.977</td>  <th>  Cond. No.          </th> <td>5.95e+03</td> \n",
       "</tr>\n",
       "</table><br/><br/>Notes:<br/>[1] Standard Errors assume that the covariance matrix of the errors is correctly specified.<br/>[2] The condition number is large, 5.95e+03. This might indicate that there are<br/>strong multicollinearity or other numerical problems."
      ],
      "text/plain": [
       "<class 'statsmodels.iolib.summary.Summary'>\n",
       "\"\"\"\n",
       "                            OLS Regression Results                            \n",
       "==============================================================================\n",
       "Dep. Variable:                  price   R-squared:                       0.258\n",
       "Model:                            OLS   Adj. R-squared:                  0.258\n",
       "Method:                 Least Squares   F-statistic:                     9372.\n",
       "Date:                Fri, 09 Dec 2022   Prob (F-statistic):               0.00\n",
       "Time:                        11:34:09   Log-Likelihood:                -14892.\n",
       "No. Observations:               26951   AIC:                         2.979e+04\n",
       "Df Residuals:                   26949   BIC:                         2.980e+04\n",
       "Df Model:                           1                                         \n",
       "Covariance Type:            nonrobust                                         \n",
       "===============================================================================\n",
       "                  coef    std err          t      P>|t|      [0.025      0.975]\n",
       "-------------------------------------------------------------------------------\n",
       "const          12.9915      0.007   1801.300      0.000      12.977      13.006\n",
       "sqft_living     0.0003   3.41e-06     96.810      0.000       0.000       0.000\n",
       "==============================================================================\n",
       "Omnibus:                     7740.531   Durbin-Watson:                   2.017\n",
       "Prob(Omnibus):                  0.000   Jarque-Bera (JB):            47049.038\n",
       "Skew:                          -1.242   Prob(JB):                         0.00\n",
       "Kurtosis:                       8.977   Cond. No.                     5.95e+03\n",
       "==============================================================================\n",
       "\n",
       "Notes:\n",
       "[1] Standard Errors assume that the covariance matrix of the errors is correctly specified.\n",
       "[2] The condition number is large, 5.95e+03. This might indicate that there are\n",
       "strong multicollinearity or other numerical problems.\n",
       "\"\"\""
      ]
     },
     "execution_count": 20,
     "metadata": {},
     "output_type": "execute_result"
    }
   ],
   "source": [
    "# Run a baseline for the log of the target\n",
    "\n",
    "y = y_scld\n",
    "X = sm.add_constant(df['sqft_living'])\n",
    "\n",
    "results = sm.OLS(y,X).fit()\n",
    "results.summary()"
   ]
  },
  {
   "cell_type": "markdown",
   "metadata": {},
   "source": [
    "# Exploration <a class=\"anchor\" id=\"exp\"></a>"
   ]
  },
  {
   "cell_type": "code",
   "execution_count": null,
   "metadata": {},
   "outputs": [],
   "source": [
    "# Create heatmap of correlation of numericals and ordinals\n",
    "\n",
    "sns.set(rc={'figure.figsize':(20, 20)})\n",
    "\n",
    "nums_n_ords = df.iloc[:, 0:20]\n",
    "\n",
    "mask  = np.triu(np.ones_like(nums_n_ords.drop('id', axis=1).corr()))\n",
    "sns.heatmap(abs(nums_n_ords.drop('id', axis=1).corr()), annot=True, mask=mask)"
   ]
  },
  {
   "cell_type": "code",
   "execution_count": null,
   "metadata": {},
   "outputs": [],
   "source": [
    "# Create heatmap of correlation of numericals and ordinals and dummies\n",
    "\n",
    "sns.set(rc={'figure.figsize':(50, 50)})\n",
    "\n",
    "\n",
    "mask  = np.triu(np.ones_like(df.drop('id', axis=1).corr()))\n",
    "sns.heatmap(abs(df.drop('id', axis=1).corr()), annot=True, mask=mask)"
   ]
  },
  {
   "cell_type": "code",
   "execution_count": null,
   "metadata": {},
   "outputs": [],
   "source": [
    "# Run pairplot of nums and ords\n",
    "\n",
    "sns.pairplot(data=nums_n_ords);"
   ]
  },
  {
   "cell_type": "markdown",
   "metadata": {},
   "source": [
    "# Improved Models <a class=\"anchor\" id=\"impmods\"></a>"
   ]
  },
  {
   "cell_type": "markdown",
   "metadata": {},
   "source": [
    "## Highest R-Squared <a class=\"anchor\" id=\"hir\"></a>"
   ]
  },
  {
   "cell_type": "code",
   "execution_count": 21,
   "metadata": {},
   "outputs": [
    {
     "data": {
      "text/html": [
       "<table class=\"simpletable\">\n",
       "<caption>OLS Regression Results</caption>\n",
       "<tr>\n",
       "  <th>Dep. Variable:</th>          <td>price</td>      <th>  R-squared:         </th>  <td>   0.629</td>  \n",
       "</tr>\n",
       "<tr>\n",
       "  <th>Model:</th>                   <td>OLS</td>       <th>  Adj. R-squared:    </th>  <td>   0.629</td>  \n",
       "</tr>\n",
       "<tr>\n",
       "  <th>Method:</th>             <td>Least Squares</td>  <th>  F-statistic:       </th>  <td>   7611.</td>  \n",
       "</tr>\n",
       "<tr>\n",
       "  <th>Date:</th>             <td>Fri, 09 Dec 2022</td> <th>  Prob (F-statistic):</th>   <td>  0.00</td>   \n",
       "</tr>\n",
       "<tr>\n",
       "  <th>Time:</th>                 <td>11:34:15</td>     <th>  Log-Likelihood:    </th> <td>-3.7481e+05</td>\n",
       "</tr>\n",
       "<tr>\n",
       "  <th>No. Observations:</th>      <td> 26951</td>      <th>  AIC:               </th>  <td>7.496e+05</td> \n",
       "</tr>\n",
       "<tr>\n",
       "  <th>Df Residuals:</th>          <td> 26944</td>      <th>  BIC:               </th>  <td>7.497e+05</td> \n",
       "</tr>\n",
       "<tr>\n",
       "  <th>Df Model:</th>              <td>     6</td>      <th>                     </th>      <td> </td>     \n",
       "</tr>\n",
       "<tr>\n",
       "  <th>Covariance Type:</th>      <td>nonrobust</td>    <th>                     </th>      <td> </td>     \n",
       "</tr>\n",
       "</table>\n",
       "<table class=\"simpletable\">\n",
       "<tr>\n",
       "           <td></td>             <th>coef</th>     <th>std err</th>      <th>t</th>      <th>P>|t|</th>  <th>[0.025</th>    <th>0.975]</th>  \n",
       "</tr>\n",
       "<tr>\n",
       "  <th>const</th>              <td> 1.295e+05</td> <td> 8410.391</td> <td>   15.397</td> <td> 0.000</td> <td> 1.13e+05</td> <td> 1.46e+05</td>\n",
       "</tr>\n",
       "<tr>\n",
       "  <th>sqft_living</th>        <td>  256.0461</td> <td>    2.488</td> <td>  102.901</td> <td> 0.000</td> <td>  251.169</td> <td>  260.923</td>\n",
       "</tr>\n",
       "<tr>\n",
       "  <th>price_cat</th>          <td> 2.259e+05</td> <td> 2816.529</td> <td>   80.203</td> <td> 0.000</td> <td>  2.2e+05</td> <td> 2.31e+05</td>\n",
       "</tr>\n",
       "<tr>\n",
       "  <th>dist_high_zip</th>      <td>-9990.5213</td> <td>  180.420</td> <td>  -55.374</td> <td> 0.000</td> <td>-1.03e+04</td> <td>-9636.889</td>\n",
       "</tr>\n",
       "<tr>\n",
       "  <th>gr_above_avg</th>       <td> 1.954e+05</td> <td> 5440.289</td> <td>   35.918</td> <td> 0.000</td> <td> 1.85e+05</td> <td> 2.06e+05</td>\n",
       "</tr>\n",
       "<tr>\n",
       "  <th>cond_above_avg</th>     <td> 7.213e+04</td> <td> 3339.812</td> <td>   21.598</td> <td> 0.000</td> <td> 6.56e+04</td> <td> 7.87e+04</td>\n",
       "</tr>\n",
       "<tr>\n",
       "  <th>waterfront_YES_dum</th> <td> 2.402e+05</td> <td> 1.52e+04</td> <td>   15.815</td> <td> 0.000</td> <td>  2.1e+05</td> <td>  2.7e+05</td>\n",
       "</tr>\n",
       "</table>\n",
       "<table class=\"simpletable\">\n",
       "<tr>\n",
       "  <th>Omnibus:</th>       <td>1826.565</td> <th>  Durbin-Watson:     </th> <td>   1.988</td>\n",
       "</tr>\n",
       "<tr>\n",
       "  <th>Prob(Omnibus):</th>  <td> 0.000</td>  <th>  Jarque-Bera (JB):  </th> <td>7715.452</td>\n",
       "</tr>\n",
       "<tr>\n",
       "  <th>Skew:</th>           <td> 0.203</td>  <th>  Prob(JB):          </th> <td>    0.00</td>\n",
       "</tr>\n",
       "<tr>\n",
       "  <th>Kurtosis:</th>       <td> 5.589</td>  <th>  Cond. No.          </th> <td>1.99e+04</td>\n",
       "</tr>\n",
       "</table><br/><br/>Notes:<br/>[1] Standard Errors assume that the covariance matrix of the errors is correctly specified.<br/>[2] The condition number is large, 1.99e+04. This might indicate that there are<br/>strong multicollinearity or other numerical problems."
      ],
      "text/plain": [
       "<class 'statsmodels.iolib.summary.Summary'>\n",
       "\"\"\"\n",
       "                            OLS Regression Results                            \n",
       "==============================================================================\n",
       "Dep. Variable:                  price   R-squared:                       0.629\n",
       "Model:                            OLS   Adj. R-squared:                  0.629\n",
       "Method:                 Least Squares   F-statistic:                     7611.\n",
       "Date:                Fri, 09 Dec 2022   Prob (F-statistic):               0.00\n",
       "Time:                        11:34:15   Log-Likelihood:            -3.7481e+05\n",
       "No. Observations:               26951   AIC:                         7.496e+05\n",
       "Df Residuals:                   26944   BIC:                         7.497e+05\n",
       "Df Model:                           6                                         \n",
       "Covariance Type:            nonrobust                                         \n",
       "======================================================================================\n",
       "                         coef    std err          t      P>|t|      [0.025      0.975]\n",
       "--------------------------------------------------------------------------------------\n",
       "const               1.295e+05   8410.391     15.397      0.000    1.13e+05    1.46e+05\n",
       "sqft_living          256.0461      2.488    102.901      0.000     251.169     260.923\n",
       "price_cat           2.259e+05   2816.529     80.203      0.000     2.2e+05    2.31e+05\n",
       "dist_high_zip      -9990.5213    180.420    -55.374      0.000   -1.03e+04   -9636.889\n",
       "gr_above_avg        1.954e+05   5440.289     35.918      0.000    1.85e+05    2.06e+05\n",
       "cond_above_avg      7.213e+04   3339.812     21.598      0.000    6.56e+04    7.87e+04\n",
       "waterfront_YES_dum  2.402e+05   1.52e+04     15.815      0.000     2.1e+05     2.7e+05\n",
       "==============================================================================\n",
       "Omnibus:                     1826.565   Durbin-Watson:                   1.988\n",
       "Prob(Omnibus):                  0.000   Jarque-Bera (JB):             7715.452\n",
       "Skew:                           0.203   Prob(JB):                         0.00\n",
       "Kurtosis:                       5.589   Cond. No.                     1.99e+04\n",
       "==============================================================================\n",
       "\n",
       "Notes:\n",
       "[1] Standard Errors assume that the covariance matrix of the errors is correctly specified.\n",
       "[2] The condition number is large, 1.99e+04. This might indicate that there are\n",
       "strong multicollinearity or other numerical problems.\n",
       "\"\"\""
      ]
     },
     "execution_count": 21,
     "metadata": {},
     "output_type": "execute_result"
    }
   ],
   "source": [
    "# Run Model\n",
    "\n",
    "y = df.price\n",
    "X = sm.add_constant(df\n",
    "                    [[\n",
    "                        'sqft_living',\n",
    "                        'price_cat',\n",
    "                        'dist_high_zip',\n",
    "                        'gr_above_avg',\n",
    "                        'cond_above_avg',\n",
    "                        'waterfront_YES_dum'\n",
    "                    ]])\n",
    "model = sm.OLS(y, X).fit()\n",
    "model.summary()"
   ]
  },
  {
   "cell_type": "markdown",
   "metadata": {},
   "source": [
    "## Lowest Cond. No. with R-squared > .6 <a class=\"abv6mod\" id=\"feateng\"></a>"
   ]
  },
  {
   "cell_type": "code",
   "execution_count": 22,
   "metadata": {},
   "outputs": [
    {
     "data": {
      "text/html": [
       "<table class=\"simpletable\">\n",
       "<caption>OLS Regression Results</caption>\n",
       "<tr>\n",
       "  <th>Dep. Variable:</th>          <td>price</td>      <th>  R-squared:         </th>  <td>   0.616</td>  \n",
       "</tr>\n",
       "<tr>\n",
       "  <th>Model:</th>                   <td>OLS</td>       <th>  Adj. R-squared:    </th>  <td>   0.616</td>  \n",
       "</tr>\n",
       "<tr>\n",
       "  <th>Method:</th>             <td>Least Squares</td>  <th>  F-statistic:       </th>  <td>   7216.</td>  \n",
       "</tr>\n",
       "<tr>\n",
       "  <th>Date:</th>             <td>Fri, 09 Dec 2022</td> <th>  Prob (F-statistic):</th>   <td>  0.00</td>   \n",
       "</tr>\n",
       "<tr>\n",
       "  <th>Time:</th>                 <td>11:34:15</td>     <th>  Log-Likelihood:    </th> <td>-3.7526e+05</td>\n",
       "</tr>\n",
       "<tr>\n",
       "  <th>No. Observations:</th>      <td> 26951</td>      <th>  AIC:               </th>  <td>7.505e+05</td> \n",
       "</tr>\n",
       "<tr>\n",
       "  <th>Df Residuals:</th>          <td> 26944</td>      <th>  BIC:               </th>  <td>7.506e+05</td> \n",
       "</tr>\n",
       "<tr>\n",
       "  <th>Df Model:</th>              <td>     6</td>      <th>                     </th>      <td> </td>     \n",
       "</tr>\n",
       "<tr>\n",
       "  <th>Covariance Type:</th>      <td>nonrobust</td>    <th>                     </th>      <td> </td>     \n",
       "</tr>\n",
       "</table>\n",
       "<table class=\"simpletable\">\n",
       "<tr>\n",
       "           <td></td>             <th>coef</th>     <th>std err</th>      <th>t</th>      <th>P>|t|</th>  <th>[0.025</th>    <th>0.975]</th>  \n",
       "</tr>\n",
       "<tr>\n",
       "  <th>const</th>              <td>-2.711e+06</td> <td> 3.35e+04</td> <td>  -80.993</td> <td> 0.000</td> <td>-2.78e+06</td> <td>-2.65e+06</td>\n",
       "</tr>\n",
       "<tr>\n",
       "  <th>log_sqft_living</th>    <td> 4.437e+05</td> <td> 4586.352</td> <td>   96.754</td> <td> 0.000</td> <td> 4.35e+05</td> <td> 4.53e+05</td>\n",
       "</tr>\n",
       "<tr>\n",
       "  <th>price_cat</th>          <td> 2.273e+05</td> <td> 2865.436</td> <td>   79.333</td> <td> 0.000</td> <td> 2.22e+05</td> <td> 2.33e+05</td>\n",
       "</tr>\n",
       "<tr>\n",
       "  <th>dist_high_zip</th>      <td>-9793.3316</td> <td>  183.367</td> <td>  -53.408</td> <td> 0.000</td> <td>-1.02e+04</td> <td>-9433.922</td>\n",
       "</tr>\n",
       "<tr>\n",
       "  <th>gr_above_avg</th>       <td> 2.455e+05</td> <td> 5368.080</td> <td>   45.734</td> <td> 0.000</td> <td> 2.35e+05</td> <td> 2.56e+05</td>\n",
       "</tr>\n",
       "<tr>\n",
       "  <th>cond_above_avg</th>     <td>  6.86e+04</td> <td> 3395.270</td> <td>   20.205</td> <td> 0.000</td> <td> 6.19e+04</td> <td> 7.53e+04</td>\n",
       "</tr>\n",
       "<tr>\n",
       "  <th>waterfront_YES_dum</th> <td> 2.586e+05</td> <td> 1.54e+04</td> <td>   16.745</td> <td> 0.000</td> <td> 2.28e+05</td> <td> 2.89e+05</td>\n",
       "</tr>\n",
       "</table>\n",
       "<table class=\"simpletable\">\n",
       "<tr>\n",
       "  <th>Omnibus:</th>       <td>2771.146</td> <th>  Durbin-Watson:     </th> <td>   1.987</td> \n",
       "</tr>\n",
       "<tr>\n",
       "  <th>Prob(Omnibus):</th>  <td> 0.000</td>  <th>  Jarque-Bera (JB):  </th> <td>14650.008</td>\n",
       "</tr>\n",
       "<tr>\n",
       "  <th>Skew:</th>           <td> 0.362</td>  <th>  Prob(JB):          </th> <td>    0.00</td> \n",
       "</tr>\n",
       "<tr>\n",
       "  <th>Kurtosis:</th>       <td> 6.539</td>  <th>  Cond. No.          </th> <td>    477.</td> \n",
       "</tr>\n",
       "</table><br/><br/>Notes:<br/>[1] Standard Errors assume that the covariance matrix of the errors is correctly specified."
      ],
      "text/plain": [
       "<class 'statsmodels.iolib.summary.Summary'>\n",
       "\"\"\"\n",
       "                            OLS Regression Results                            \n",
       "==============================================================================\n",
       "Dep. Variable:                  price   R-squared:                       0.616\n",
       "Model:                            OLS   Adj. R-squared:                  0.616\n",
       "Method:                 Least Squares   F-statistic:                     7216.\n",
       "Date:                Fri, 09 Dec 2022   Prob (F-statistic):               0.00\n",
       "Time:                        11:34:15   Log-Likelihood:            -3.7526e+05\n",
       "No. Observations:               26951   AIC:                         7.505e+05\n",
       "Df Residuals:                   26944   BIC:                         7.506e+05\n",
       "Df Model:                           6                                         \n",
       "Covariance Type:            nonrobust                                         \n",
       "======================================================================================\n",
       "                         coef    std err          t      P>|t|      [0.025      0.975]\n",
       "--------------------------------------------------------------------------------------\n",
       "const              -2.711e+06   3.35e+04    -80.993      0.000   -2.78e+06   -2.65e+06\n",
       "log_sqft_living     4.437e+05   4586.352     96.754      0.000    4.35e+05    4.53e+05\n",
       "price_cat           2.273e+05   2865.436     79.333      0.000    2.22e+05    2.33e+05\n",
       "dist_high_zip      -9793.3316    183.367    -53.408      0.000   -1.02e+04   -9433.922\n",
       "gr_above_avg        2.455e+05   5368.080     45.734      0.000    2.35e+05    2.56e+05\n",
       "cond_above_avg       6.86e+04   3395.270     20.205      0.000    6.19e+04    7.53e+04\n",
       "waterfront_YES_dum  2.586e+05   1.54e+04     16.745      0.000    2.28e+05    2.89e+05\n",
       "==============================================================================\n",
       "Omnibus:                     2771.146   Durbin-Watson:                   1.987\n",
       "Prob(Omnibus):                  0.000   Jarque-Bera (JB):            14650.008\n",
       "Skew:                           0.362   Prob(JB):                         0.00\n",
       "Kurtosis:                       6.539   Cond. No.                         477.\n",
       "==============================================================================\n",
       "\n",
       "Notes:\n",
       "[1] Standard Errors assume that the covariance matrix of the errors is correctly specified.\n",
       "\"\"\""
      ]
     },
     "execution_count": 22,
     "metadata": {},
     "output_type": "execute_result"
    }
   ],
   "source": [
    "df['log_price'] = np.log(df.price)\n",
    "df['sqrt_dist_high_zip'] = np.sqrt(df.dist_high_zip)\n",
    "df['log_sqft_living'] = np.log(df.sqft_living)\n",
    "\n",
    "y = df.price\n",
    "X = sm.add_constant(df\n",
    "                    [[\n",
    "                        'log_sqft_living',\n",
    "                        'price_cat',\n",
    "                        'dist_high_zip',\n",
    "                        'gr_above_avg',\n",
    "                        'cond_above_avg',\n",
    "                        'waterfront_YES_dum'\n",
    "                    ]])\n",
    "model = sm.OLS(y, X).fit()\n",
    "model.summary()"
   ]
  },
  {
   "cell_type": "code",
   "execution_count": 23,
   "metadata": {},
   "outputs": [],
   "source": [
    "# Prepare price model table data for visualizations\n",
    "\n",
    "price_mod_sum_table1 = model.summary()\n",
    "results_as_html = price_mod_sum_table1.tables[1].as_html()\n",
    "price_mod_table1 = pd.read_html(results_as_html, header=0, index_col=0)[0]"
   ]
  },
  {
   "cell_type": "code",
   "execution_count": 24,
   "metadata": {},
   "outputs": [
    {
     "data": {
      "image/png": "[encoded data removed]",
      "text/plain": [
       "<Figure size 576x432 with 1 Axes>"
      ]
     },
     "metadata": {},
     "output_type": "display_data"
    }
   ],
   "source": [
    "# Check qqplot\n",
    "\n",
    "sns.set(rc={'figure.figsize':(8, 6)})\n",
    "sm.qqplot(model.resid, line='r');"
   ]
  },
  {
   "cell_type": "code",
   "execution_count": 25,
   "metadata": {},
   "outputs": [
    {
     "data": {
      "image/png": "[encoded data removed]",
      "text/plain": [
       "<Figure size 576x432 with 1 Axes>"
      ]
     },
     "metadata": {},
     "output_type": "display_data"
    }
   ],
   "source": [
    "# Check homoskedasticity with resids scatter\n",
    "\n",
    "model_preds = model.predict(X)\n",
    "resids = y - model_preds\n",
    "\n",
    "fig, ax = plt.subplots()\n",
    "\n",
    "ax.scatter(y, resids);\n",
    "#errors appear to be homoskedastic which is what we want"
   ]
  },
  {
   "cell_type": "code",
   "execution_count": 26,
   "metadata": {},
   "outputs": [
    {
     "data": {
      "text/plain": [
       "<AxesSubplot:ylabel='Count'>"
      ]
     },
     "execution_count": 26,
     "metadata": {},
     "output_type": "execute_result"
    },
    {
     "data": {
      "image/png": "[encoded data removed]",
      "text/plain": [
       "<Figure size 576x432 with 1 Axes>"
      ]
     },
     "metadata": {},
     "output_type": "display_data"
    }
   ],
   "source": [
    "sns.histplot(x=resids)\n",
    "#residual plot looks to be normally distributed"
   ]
  },
  {
   "cell_type": "code",
   "execution_count": 27,
   "metadata": {},
   "outputs": [
    {
     "data": {
      "text/html": [
       "<div>\n",
       "<style scoped>\n",
       "    .dataframe tbody tr th:only-of-type {\n",
       "        vertical-align: middle;\n",
       "    }\n",
       "\n",
       "    .dataframe tbody tr th {\n",
       "        vertical-align: top;\n",
       "    }\n",
       "\n",
       "    .dataframe thead th {\n",
       "        text-align: right;\n",
       "    }\n",
       "</style>\n",
       "<table border=\"1\" class=\"dataframe\">\n",
       "  <thead>\n",
       "    <tr style=\"text-align: right;\">\n",
       "      <th></th>\n",
       "      <th>feature</th>\n",
       "      <th>VIF</th>\n",
       "    </tr>\n",
       "  </thead>\n",
       "  <tbody>\n",
       "    <tr>\n",
       "      <th>0</th>\n",
       "      <td>log_sqft_living</td>\n",
       "      <td>25.257603</td>\n",
       "    </tr>\n",
       "    <tr>\n",
       "      <th>1</th>\n",
       "      <td>price_cat</td>\n",
       "      <td>13.024246</td>\n",
       "    </tr>\n",
       "    <tr>\n",
       "      <th>2</th>\n",
       "      <td>dist_high_zip</td>\n",
       "      <td>6.093322</td>\n",
       "    </tr>\n",
       "    <tr>\n",
       "      <th>4</th>\n",
       "      <td>cond_above_avg</td>\n",
       "      <td>1.686581</td>\n",
       "    </tr>\n",
       "    <tr>\n",
       "      <th>3</th>\n",
       "      <td>gr_above_avg</td>\n",
       "      <td>1.231473</td>\n",
       "    </tr>\n",
       "    <tr>\n",
       "      <th>5</th>\n",
       "      <td>waterfront_YES_dum</td>\n",
       "      <td>1.023497</td>\n",
       "    </tr>\n",
       "  </tbody>\n",
       "</table>\n",
       "</div>"
      ],
      "text/plain": [
       "              feature        VIF\n",
       "0     log_sqft_living  25.257603\n",
       "1           price_cat  13.024246\n",
       "2       dist_high_zip   6.093322\n",
       "4      cond_above_avg   1.686581\n",
       "3        gr_above_avg   1.231473\n",
       "5  waterfront_YES_dum   1.023497"
      ]
     },
     "execution_count": 27,
     "metadata": {},
     "output_type": "execute_result"
    }
   ],
   "source": [
    "df_VIF = df[[\n",
    "    'log_sqft_living',\n",
    "    'price_cat',\n",
    "    'dist_high_zip',\n",
    "    'gr_above_avg',\n",
    "    'cond_above_avg',\n",
    "    'waterfront_YES_dum']]\n",
    "\n",
    "vif=pd.DataFrame()\n",
    "vif['feature'] = df_VIF.columns\n",
    "vif[\"VIF\"] = [variance_inflation_factor(df_VIF.values, i)\n",
    "                          for i in range(len(df_VIF.columns))]\n",
    "\n",
    "vif.sort_values('VIF',ascending=False)\n",
    "\n",
    "#Might want to consider dropping a variable. VIF is high for the top 3"
   ]
  },
  {
   "cell_type": "code",
   "execution_count": 28,
   "metadata": {},
   "outputs": [
    {
     "data": {
      "image/png": "[encoded data removed]",
      "text/plain": [
       "<Figure size 576x432 with 1 Axes>"
      ]
     },
     "metadata": {},
     "output_type": "display_data"
    }
   ],
   "source": [
    "#Visualize Coefficients from Price Model\n",
    "\n",
    "price_mod_table1_bar = price_mod_table1.sort_values('coef', ascending=False)\n",
    "price_mod_table1_bar = price_mod_table1_bar.drop('const')\n",
    "\n",
    "fig, ax = plt.subplots()\n",
    "\n",
    "x = price_mod_table1_bar.index\n",
    "y = price_mod_table1_bar['coef']\n",
    "\n",
    "ax.set_xlabel(\"Renovation Features\")\n",
    "ax.set_ylabel(\"Coefficeint With Price\")\n",
    "ax.set_title(\"Coefficeint of Model Features with Price\")\n",
    "\n",
    "#ax.set_xticklabels(['Log SQRT Living Space', 'Bedrooms', 'Has Basement', 'Has Patio', 'Floors'])      \n",
    "plt.xticks(rotation=45, ha = 'right', rotation_mode = 'anchor')  \n",
    "\n",
    "ax.bar(x,y)\n",
    "\n",
    "plt.savefig('images/coef_price_feats.png', bbox_inches='tight', dpi=300)"
   ]
  },
  {
   "cell_type": "markdown",
   "metadata": {},
   "source": [
    "## Model With Renovation Features <a class=\"anchor\" id=\"renomod\"></a>"
   ]
  },
  {
   "cell_type": "code",
   "execution_count": 29,
   "metadata": {},
   "outputs": [
    {
     "data": {
      "text/html": [
       "<table class=\"simpletable\">\n",
       "<caption>OLS Regression Results</caption>\n",
       "<tr>\n",
       "  <th>Dep. Variable:</th>          <td>price</td>      <th>  R-squared:         </th>  <td>   0.544</td>  \n",
       "</tr>\n",
       "<tr>\n",
       "  <th>Model:</th>                   <td>OLS</td>       <th>  Adj. R-squared:    </th>  <td>   0.544</td>  \n",
       "</tr>\n",
       "<tr>\n",
       "  <th>Method:</th>             <td>Least Squares</td>  <th>  F-statistic:       </th>  <td>   4012.</td>  \n",
       "</tr>\n",
       "<tr>\n",
       "  <th>Date:</th>             <td>Fri, 09 Dec 2022</td> <th>  Prob (F-statistic):</th>   <td>  0.00</td>   \n",
       "</tr>\n",
       "<tr>\n",
       "  <th>Time:</th>                 <td>11:34:17</td>     <th>  Log-Likelihood:    </th> <td>-3.7760e+05</td>\n",
       "</tr>\n",
       "<tr>\n",
       "  <th>No. Observations:</th>      <td> 26951</td>      <th>  AIC:               </th>  <td>7.552e+05</td> \n",
       "</tr>\n",
       "<tr>\n",
       "  <th>Df Residuals:</th>          <td> 26942</td>      <th>  BIC:               </th>  <td>7.553e+05</td> \n",
       "</tr>\n",
       "<tr>\n",
       "  <th>Df Model:</th>              <td>     8</td>      <th>                     </th>      <td> </td>     \n",
       "</tr>\n",
       "<tr>\n",
       "  <th>Covariance Type:</th>      <td>nonrobust</td>    <th>                     </th>      <td> </td>     \n",
       "</tr>\n",
       "</table>\n",
       "<table class=\"simpletable\">\n",
       "<tr>\n",
       "        <td></td>          <th>coef</th>     <th>std err</th>      <th>t</th>      <th>P>|t|</th>  <th>[0.025</th>    <th>0.975]</th>  \n",
       "</tr>\n",
       "<tr>\n",
       "  <th>const</th>        <td>-3.132e+05</td> <td> 1.19e+04</td> <td>  -26.284</td> <td> 0.000</td> <td>-3.37e+05</td> <td> -2.9e+05</td>\n",
       "</tr>\n",
       "<tr>\n",
       "  <th>price_cat</th>    <td> 3.154e+05</td> <td> 2639.560</td> <td>  119.478</td> <td> 0.000</td> <td>  3.1e+05</td> <td> 3.21e+05</td>\n",
       "</tr>\n",
       "<tr>\n",
       "  <th>gr_above_avg</th> <td> 3.148e+05</td> <td> 5805.889</td> <td>   54.226</td> <td> 0.000</td> <td> 3.03e+05</td> <td> 3.26e+05</td>\n",
       "</tr>\n",
       "<tr>\n",
       "  <th>has_basement</th> <td> 4.776e+04</td> <td> 3812.284</td> <td>   12.529</td> <td> 0.000</td> <td> 4.03e+04</td> <td> 5.52e+04</td>\n",
       "</tr>\n",
       "<tr>\n",
       "  <th>has_patio</th>    <td> 2.916e+04</td> <td> 4414.820</td> <td>    6.605</td> <td> 0.000</td> <td> 2.05e+04</td> <td> 3.78e+04</td>\n",
       "</tr>\n",
       "<tr>\n",
       "  <th>floors</th>       <td>  1.61e+04</td> <td> 3994.475</td> <td>    4.030</td> <td> 0.000</td> <td> 8267.427</td> <td> 2.39e+04</td>\n",
       "</tr>\n",
       "<tr>\n",
       "  <th>bedrooms</th>     <td> 5.173e+04</td> <td> 2308.827</td> <td>   22.407</td> <td> 0.000</td> <td> 4.72e+04</td> <td> 5.63e+04</td>\n",
       "</tr>\n",
       "<tr>\n",
       "  <th>bathrooms</th>    <td> 1.049e+05</td> <td> 3198.861</td> <td>   32.786</td> <td> 0.000</td> <td> 9.86e+04</td> <td> 1.11e+05</td>\n",
       "</tr>\n",
       "<tr>\n",
       "  <th>cond_enc</th>     <td> 4.824e+04</td> <td> 2635.115</td> <td>   18.305</td> <td> 0.000</td> <td> 4.31e+04</td> <td> 5.34e+04</td>\n",
       "</tr>\n",
       "</table>\n",
       "<table class=\"simpletable\">\n",
       "<tr>\n",
       "  <th>Omnibus:</th>       <td>1908.946</td> <th>  Durbin-Watson:     </th> <td>   1.988</td>\n",
       "</tr>\n",
       "<tr>\n",
       "  <th>Prob(Omnibus):</th>  <td> 0.000</td>  <th>  Jarque-Bera (JB):  </th> <td>4512.385</td>\n",
       "</tr>\n",
       "<tr>\n",
       "  <th>Skew:</th>           <td> 0.442</td>  <th>  Prob(JB):          </th> <td>    0.00</td>\n",
       "</tr>\n",
       "<tr>\n",
       "  <th>Kurtosis:</th>       <td> 4.799</td>  <th>  Cond. No.          </th> <td>    38.5</td>\n",
       "</tr>\n",
       "</table><br/><br/>Notes:<br/>[1] Standard Errors assume that the covariance matrix of the errors is correctly specified."
      ],
      "text/plain": [
       "<class 'statsmodels.iolib.summary.Summary'>\n",
       "\"\"\"\n",
       "                            OLS Regression Results                            \n",
       "==============================================================================\n",
       "Dep. Variable:                  price   R-squared:                       0.544\n",
       "Model:                            OLS   Adj. R-squared:                  0.544\n",
       "Method:                 Least Squares   F-statistic:                     4012.\n",
       "Date:                Fri, 09 Dec 2022   Prob (F-statistic):               0.00\n",
       "Time:                        11:34:17   Log-Likelihood:            -3.7760e+05\n",
       "No. Observations:               26951   AIC:                         7.552e+05\n",
       "Df Residuals:                   26942   BIC:                         7.553e+05\n",
       "Df Model:                           8                                         \n",
       "Covariance Type:            nonrobust                                         \n",
       "================================================================================\n",
       "                   coef    std err          t      P>|t|      [0.025      0.975]\n",
       "--------------------------------------------------------------------------------\n",
       "const        -3.132e+05   1.19e+04    -26.284      0.000   -3.37e+05    -2.9e+05\n",
       "price_cat     3.154e+05   2639.560    119.478      0.000     3.1e+05    3.21e+05\n",
       "gr_above_avg  3.148e+05   5805.889     54.226      0.000    3.03e+05    3.26e+05\n",
       "has_basement  4.776e+04   3812.284     12.529      0.000    4.03e+04    5.52e+04\n",
       "has_patio     2.916e+04   4414.820      6.605      0.000    2.05e+04    3.78e+04\n",
       "floors         1.61e+04   3994.475      4.030      0.000    8267.427    2.39e+04\n",
       "bedrooms      5.173e+04   2308.827     22.407      0.000    4.72e+04    5.63e+04\n",
       "bathrooms     1.049e+05   3198.861     32.786      0.000    9.86e+04    1.11e+05\n",
       "cond_enc      4.824e+04   2635.115     18.305      0.000    4.31e+04    5.34e+04\n",
       "==============================================================================\n",
       "Omnibus:                     1908.946   Durbin-Watson:                   1.988\n",
       "Prob(Omnibus):                  0.000   Jarque-Bera (JB):             4512.385\n",
       "Skew:                           0.442   Prob(JB):                         0.00\n",
       "Kurtosis:                       4.799   Cond. No.                         38.5\n",
       "==============================================================================\n",
       "\n",
       "Notes:\n",
       "[1] Standard Errors assume that the covariance matrix of the errors is correctly specified.\n",
       "\"\"\""
      ]
     },
     "execution_count": 29,
     "metadata": {},
     "output_type": "execute_result"
    }
   ],
   "source": [
    "# Run home improvement model - model with renovation features\n",
    "\n",
    "df['grade_squared'] = df['grade_enc']**2\n",
    "\n",
    "y = df['price']\n",
    "X = sm.add_constant(df[['price_cat',\n",
    "                        'gr_above_avg',\n",
    "                        'has_basement', \n",
    "                        'has_patio',   \n",
    "                        'floors',\n",
    "                        'bedrooms',\n",
    "                        'bathrooms',\n",
    "                        'cond_enc',\n",
    "                       ]])\n",
    "\n",
    "model = sm.OLS(y,X).fit()\n",
    "model.summary()"
   ]
  },
  {
   "cell_type": "code",
   "execution_count": 30,
   "metadata": {},
   "outputs": [],
   "source": [
    "# Prepare renovations features model table data for visualizations\n",
    "\n",
    "feats_mod_sum_table1 = model.summary()\n",
    "results_as_html = feats_mod_sum_table1.tables[1].as_html()\n",
    "feats_mod_table1 = pd.read_html(results_as_html, header=0, index_col=0)[0]"
   ]
  },
  {
   "cell_type": "code",
   "execution_count": 31,
   "metadata": {},
   "outputs": [
    {
     "data": {
      "text/html": [
       "<div>\n",
       "<style scoped>\n",
       "    .dataframe tbody tr th:only-of-type {\n",
       "        vertical-align: middle;\n",
       "    }\n",
       "\n",
       "    .dataframe tbody tr th {\n",
       "        vertical-align: top;\n",
       "    }\n",
       "\n",
       "    .dataframe thead th {\n",
       "        text-align: right;\n",
       "    }\n",
       "</style>\n",
       "<table border=\"1\" class=\"dataframe\">\n",
       "  <thead>\n",
       "    <tr style=\"text-align: right;\">\n",
       "      <th></th>\n",
       "      <th>coef</th>\n",
       "      <th>std err</th>\n",
       "      <th>t</th>\n",
       "      <th>P&gt;|t|</th>\n",
       "      <th>[0.025</th>\n",
       "      <th>0.975]</th>\n",
       "    </tr>\n",
       "  </thead>\n",
       "  <tbody>\n",
       "    <tr>\n",
       "      <th>const</th>\n",
       "      <td>-313200.0</td>\n",
       "      <td>11900.000</td>\n",
       "      <td>-26.284</td>\n",
       "      <td>0.0</td>\n",
       "      <td>-337000.000</td>\n",
       "      <td>-290000.0</td>\n",
       "    </tr>\n",
       "    <tr>\n",
       "      <th>price_cat</th>\n",
       "      <td>315400.0</td>\n",
       "      <td>2639.560</td>\n",
       "      <td>119.478</td>\n",
       "      <td>0.0</td>\n",
       "      <td>310000.000</td>\n",
       "      <td>321000.0</td>\n",
       "    </tr>\n",
       "    <tr>\n",
       "      <th>gr_above_avg</th>\n",
       "      <td>314800.0</td>\n",
       "      <td>5805.889</td>\n",
       "      <td>54.226</td>\n",
       "      <td>0.0</td>\n",
       "      <td>303000.000</td>\n",
       "      <td>326000.0</td>\n",
       "    </tr>\n",
       "    <tr>\n",
       "      <th>has_basement</th>\n",
       "      <td>47760.0</td>\n",
       "      <td>3812.284</td>\n",
       "      <td>12.529</td>\n",
       "      <td>0.0</td>\n",
       "      <td>40300.000</td>\n",
       "      <td>55200.0</td>\n",
       "    </tr>\n",
       "    <tr>\n",
       "      <th>has_patio</th>\n",
       "      <td>29160.0</td>\n",
       "      <td>4414.820</td>\n",
       "      <td>6.605</td>\n",
       "      <td>0.0</td>\n",
       "      <td>20500.000</td>\n",
       "      <td>37800.0</td>\n",
       "    </tr>\n",
       "    <tr>\n",
       "      <th>floors</th>\n",
       "      <td>16100.0</td>\n",
       "      <td>3994.475</td>\n",
       "      <td>4.030</td>\n",
       "      <td>0.0</td>\n",
       "      <td>8267.427</td>\n",
       "      <td>23900.0</td>\n",
       "    </tr>\n",
       "    <tr>\n",
       "      <th>bedrooms</th>\n",
       "      <td>51730.0</td>\n",
       "      <td>2308.827</td>\n",
       "      <td>22.407</td>\n",
       "      <td>0.0</td>\n",
       "      <td>47200.000</td>\n",
       "      <td>56300.0</td>\n",
       "    </tr>\n",
       "    <tr>\n",
       "      <th>bathrooms</th>\n",
       "      <td>104900.0</td>\n",
       "      <td>3198.861</td>\n",
       "      <td>32.786</td>\n",
       "      <td>0.0</td>\n",
       "      <td>98600.000</td>\n",
       "      <td>111000.0</td>\n",
       "    </tr>\n",
       "    <tr>\n",
       "      <th>cond_enc</th>\n",
       "      <td>48240.0</td>\n",
       "      <td>2635.115</td>\n",
       "      <td>18.305</td>\n",
       "      <td>0.0</td>\n",
       "      <td>43100.000</td>\n",
       "      <td>53400.0</td>\n",
       "    </tr>\n",
       "  </tbody>\n",
       "</table>\n",
       "</div>"
      ],
      "text/plain": [
       "                  coef    std err        t  P>|t|      [0.025    0.975]\n",
       "const        -313200.0  11900.000  -26.284    0.0 -337000.000 -290000.0\n",
       "price_cat     315400.0   2639.560  119.478    0.0  310000.000  321000.0\n",
       "gr_above_avg  314800.0   5805.889   54.226    0.0  303000.000  326000.0\n",
       "has_basement   47760.0   3812.284   12.529    0.0   40300.000   55200.0\n",
       "has_patio      29160.0   4414.820    6.605    0.0   20500.000   37800.0\n",
       "floors         16100.0   3994.475    4.030    0.0    8267.427   23900.0\n",
       "bedrooms       51730.0   2308.827   22.407    0.0   47200.000   56300.0\n",
       "bathrooms     104900.0   3198.861   32.786    0.0   98600.000  111000.0\n",
       "cond_enc       48240.0   2635.115   18.305    0.0   43100.000   53400.0"
      ]
     },
     "execution_count": 31,
     "metadata": {},
     "output_type": "execute_result"
    }
   ],
   "source": [
    "feats_mod_table1"
   ]
  },
  {
   "cell_type": "code",
   "execution_count": 32,
   "metadata": {},
   "outputs": [
    {
     "data": {
      "image/png": "[encoded data removed]",
      "text/plain": [
       "<Figure size 576x432 with 1 Axes>"
      ]
     },
     "metadata": {},
     "output_type": "display_data"
    }
   ],
   "source": [
    "sm.qqplot(model.resid, line='r');"
   ]
  },
  {
   "cell_type": "code",
   "execution_count": 33,
   "metadata": {},
   "outputs": [
    {
     "data": {
      "image/png": "[encoded data removed]",
      "text/plain": [
       "<Figure size 576x432 with 1 Axes>"
      ]
     },
     "metadata": {},
     "output_type": "display_data"
    }
   ],
   "source": [
    "model_preds = model.predict(X)\n",
    "resids = y - model_preds\n",
    "\n",
    "fig, ax = plt.subplots()\n",
    "\n",
    "ax.scatter(y, resids);"
   ]
  },
  {
   "cell_type": "code",
   "execution_count": 34,
   "metadata": {},
   "outputs": [
    {
     "data": {
      "text/plain": [
       "<AxesSubplot:ylabel='Count'>"
      ]
     },
     "execution_count": 34,
     "metadata": {},
     "output_type": "execute_result"
    },
    {
     "data": {
      "image/png": "[encoded data removed]",
      "text/plain": [
       "<Figure size 576x432 with 1 Axes>"
      ]
     },
     "metadata": {},
     "output_type": "display_data"
    }
   ],
   "source": [
    "sns.histplot(x=resids)"
   ]
  },
  {
   "cell_type": "code",
   "execution_count": 35,
   "metadata": {},
   "outputs": [
    {
     "data": {
      "text/html": [
       "<div>\n",
       "<style scoped>\n",
       "    .dataframe tbody tr th:only-of-type {\n",
       "        vertical-align: middle;\n",
       "    }\n",
       "\n",
       "    .dataframe tbody tr th {\n",
       "        vertical-align: top;\n",
       "    }\n",
       "\n",
       "    .dataframe thead th {\n",
       "        text-align: right;\n",
       "    }\n",
       "</style>\n",
       "<table border=\"1\" class=\"dataframe\">\n",
       "  <thead>\n",
       "    <tr style=\"text-align: right;\">\n",
       "      <th></th>\n",
       "      <th>feature</th>\n",
       "      <th>VIF</th>\n",
       "    </tr>\n",
       "  </thead>\n",
       "  <tbody>\n",
       "    <tr>\n",
       "      <th>6</th>\n",
       "      <td>bathrooms</td>\n",
       "      <td>17.642264</td>\n",
       "    </tr>\n",
       "    <tr>\n",
       "      <th>5</th>\n",
       "      <td>bedrooms</td>\n",
       "      <td>17.539841</td>\n",
       "    </tr>\n",
       "    <tr>\n",
       "      <th>4</th>\n",
       "      <td>floors</td>\n",
       "      <td>9.750319</td>\n",
       "    </tr>\n",
       "    <tr>\n",
       "      <th>7</th>\n",
       "      <td>cond_enc</td>\n",
       "      <td>9.175485</td>\n",
       "    </tr>\n",
       "    <tr>\n",
       "      <th>0</th>\n",
       "      <td>price_cat</td>\n",
       "      <td>8.070462</td>\n",
       "    </tr>\n",
       "    <tr>\n",
       "      <th>3</th>\n",
       "      <td>has_patio</td>\n",
       "      <td>4.570235</td>\n",
       "    </tr>\n",
       "    <tr>\n",
       "      <th>2</th>\n",
       "      <td>has_basement</td>\n",
       "      <td>2.122134</td>\n",
       "    </tr>\n",
       "    <tr>\n",
       "      <th>1</th>\n",
       "      <td>gr_above_avg</td>\n",
       "      <td>1.369986</td>\n",
       "    </tr>\n",
       "  </tbody>\n",
       "</table>\n",
       "</div>"
      ],
      "text/plain": [
       "        feature        VIF\n",
       "6     bathrooms  17.642264\n",
       "5      bedrooms  17.539841\n",
       "4        floors   9.750319\n",
       "7      cond_enc   9.175485\n",
       "0     price_cat   8.070462\n",
       "3     has_patio   4.570235\n",
       "2  has_basement   2.122134\n",
       "1  gr_above_avg   1.369986"
      ]
     },
     "execution_count": 35,
     "metadata": {},
     "output_type": "execute_result"
    }
   ],
   "source": [
    "df_VIF = df[['price_cat',\n",
    "                        'gr_above_avg',\n",
    "                        'has_basement', \n",
    "                        'has_patio',  \n",
    "                        'floors',\n",
    "                        'bedrooms',\n",
    "                        'bathrooms',\n",
    "                        'cond_enc',\n",
    "                       ]]\n",
    "\n",
    "\n",
    "vif=pd.DataFrame()\n",
    "vif['feature'] = df_VIF.columns\n",
    "vif[\"VIF\"] = [variance_inflation_factor(df_VIF.values, i)\n",
    "                          for i in range(len(df_VIF.columns))]\n",
    "\n",
    "vif.sort_values('VIF',ascending=False)"
   ]
  },
  {
   "cell_type": "code",
   "execution_count": 36,
   "metadata": {},
   "outputs": [
    {
     "data": {
      "image/png": "[encoded data removed]",
      "text/plain": [
       "<Figure size 576x432 with 1 Axes>"
      ]
     },
     "metadata": {},
     "output_type": "display_data"
    }
   ],
   "source": [
    "#Visualize Coefficients from Renovations Features Model\n",
    "\n",
    "feats_mod_table1_bar = feats_mod_table1.sort_values('coef', ascending=False)\n",
    "feats_mod_table1_bar = feats_mod_table1_bar.drop(['price_cat' , 'gr_above_avg', 'cond_enc', 'const'])\n",
    "\n",
    "fig, ax = plt.subplots()\n",
    "\n",
    "x = feats_mod_table1_bar.index\n",
    "y = feats_mod_table1_bar['coef']\n",
    "\n",
    "ax.set_xlabel(\"Renovation Features\")\n",
    "ax.set_ylabel(\"Coefficeint With Price\")\n",
    "ax.set_title(\"Coefficeint of Renovation Features with Price\")\n",
    "\n",
    "ax.set_xticklabels(['Bathrooms', 'Bedrooms', 'Has a Basement', 'Has a Patio', 'Floors'])      \n",
    "plt.xticks(rotation=45, ha = 'right', rotation_mode = 'anchor')  \n",
    "\n",
    "ax.bar(x,y)\n",
    "\n",
    "plt.savefig('images/coef_reno_fets.png', bbox_inches='tight', dpi=300)"
   ]
  },
  {
   "cell_type": "markdown",
   "metadata": {},
   "source": [
    "# Non-Model Analysis <a class=\"anchor\" id=\"nonmod\"></a>"
   ]
  },
  {
   "cell_type": "markdown",
   "metadata": {},
   "source": [
    "To further understand the landscape of King Couty housing, we wanted to see the highest and lowest priced areas. We used zip codes taken from the addresses to plot the highest and lowest priced zip codes and created a boxplot of all zipcodes average price."
   ]
  },
  {
   "cell_type": "code",
   "execution_count": 37,
   "metadata": {},
   "outputs": [
    {
     "data": {
      "image/png": "[encoded data removed]",
      "text/plain": [
       "<Figure size 576x432 with 1 Axes>"
      ]
     },
     "metadata": {},
     "output_type": "display_data"
    }
   ],
   "source": [
    "# Get top 10 highest average priced zips\n",
    "\n",
    "zip_info = df[['zips', 'zip_mean']].drop_duplicates()\n",
    "zip_top_10 = zip_info.sort_values('zip_mean', ascending=False)[0:10]\n",
    "zip_top_10\n",
    "\n",
    "fig, ax = plt.subplots()\n",
    "\n",
    "x = zip_top_10['zips']\n",
    "y = zip_top_10['zip_mean']/1000000\n",
    "\n",
    "ax.set_xlabel(\"Zipcodes\")\n",
    "ax.set_ylabel(\"Average Price (millions)\")\n",
    "ax.set_title(\"Top Zipcodes by Mean Price\")\n",
    "\n",
    "ax.bar(x,y)\n",
    "\n",
    "plt.savefig('images/top_zip_price.png', bbox_inches='tight', dpi=300)"
   ]
  },
  {
   "cell_type": "code",
   "execution_count": 38,
   "metadata": {},
   "outputs": [
    {
     "data": {
      "text/html": [
       "<div>\n",
       "<style scoped>\n",
       "    .dataframe tbody tr th:only-of-type {\n",
       "        vertical-align: middle;\n",
       "    }\n",
       "\n",
       "    .dataframe tbody tr th {\n",
       "        vertical-align: top;\n",
       "    }\n",
       "\n",
       "    .dataframe thead th {\n",
       "        text-align: right;\n",
       "    }\n",
       "</style>\n",
       "<table border=\"1\" class=\"dataframe\">\n",
       "  <thead>\n",
       "    <tr style=\"text-align: right;\">\n",
       "      <th></th>\n",
       "      <th>zips</th>\n",
       "      <th>zip_mean</th>\n",
       "    </tr>\n",
       "  </thead>\n",
       "  <tbody>\n",
       "    <tr>\n",
       "      <th>8023</th>\n",
       "      <td>98224</td>\n",
       "      <td>254666.666667</td>\n",
       "    </tr>\n",
       "    <tr>\n",
       "      <th>18449</th>\n",
       "      <td>98422</td>\n",
       "      <td>312750.000000</td>\n",
       "    </tr>\n",
       "    <tr>\n",
       "      <th>1765</th>\n",
       "      <td>98288</td>\n",
       "      <td>457268.750000</td>\n",
       "    </tr>\n",
       "    <tr>\n",
       "      <th>44</th>\n",
       "      <td>98002</td>\n",
       "      <td>475426.217631</td>\n",
       "    </tr>\n",
       "    <tr>\n",
       "      <th>389</th>\n",
       "      <td>98047</td>\n",
       "      <td>492911.792208</td>\n",
       "    </tr>\n",
       "    <tr>\n",
       "      <th>7476</th>\n",
       "      <td>98251</td>\n",
       "      <td>515300.000000</td>\n",
       "    </tr>\n",
       "    <tr>\n",
       "      <th>32</th>\n",
       "      <td>98168</td>\n",
       "      <td>538955.477807</td>\n",
       "    </tr>\n",
       "    <tr>\n",
       "      <th>2080</th>\n",
       "      <td>98354</td>\n",
       "      <td>574159.260870</td>\n",
       "    </tr>\n",
       "    <tr>\n",
       "      <th>448</th>\n",
       "      <td>98032</td>\n",
       "      <td>581496.201087</td>\n",
       "    </tr>\n",
       "    <tr>\n",
       "      <th>86</th>\n",
       "      <td>98003</td>\n",
       "      <td>606754.711364</td>\n",
       "    </tr>\n",
       "  </tbody>\n",
       "</table>\n",
       "</div>"
      ],
      "text/plain": [
       "        zips       zip_mean\n",
       "8023   98224  254666.666667\n",
       "18449  98422  312750.000000\n",
       "1765   98288  457268.750000\n",
       "44     98002  475426.217631\n",
       "389    98047  492911.792208\n",
       "7476   98251  515300.000000\n",
       "32     98168  538955.477807\n",
       "2080   98354  574159.260870\n",
       "448    98032  581496.201087\n",
       "86     98003  606754.711364"
      ]
     },
     "execution_count": 38,
     "metadata": {},
     "output_type": "execute_result"
    }
   ],
   "source": [
    "zip_bot_10 = zip_info.sort_values('zip_mean', ascending=True)[0:10]\n",
    "zip_bot_10"
   ]
  },
  {
   "cell_type": "code",
   "execution_count": 39,
   "metadata": {},
   "outputs": [
    {
     "data": {
      "image/png": "[encoded data removed]",
      "text/plain": [
       "<Figure size 576x432 with 1 Axes>"
      ]
     },
     "metadata": {},
     "output_type": "display_data"
    }
   ],
   "source": [
    "# Get top 10 lowest average priced zips\n",
    "\n",
    "zip_bot_10 = zip_info.sort_values('zip_mean', ascending=True)[0:10]\n",
    "\n",
    "fig, ax = plt.subplots()\n",
    "\n",
    "x = zip_bot_10['zips']\n",
    "y = zip_bot_10['zip_mean']\n",
    "\n",
    "ax.set_xlabel(\"Zipcodes\")\n",
    "ax.set_ylabel(\"Average Price\")\n",
    "ax.set_title(\"Bottom Zipcodes by Mean Price\")\n",
    "\n",
    "ax.bar(x,y)\n",
    "\n",
    "plt.savefig('images/bot_zips_price.png', bbox_inches='tight', dpi=300)"
   ]
  },
  {
   "cell_type": "code",
   "execution_count": 40,
   "metadata": {},
   "outputs": [
    {
     "data": {
      "image/png": "[encoded data removed]",
      "text/plain": [
       "<Figure size 576x432 with 1 Axes>"
      ]
     },
     "metadata": {},
     "output_type": "display_data"
    }
   ],
   "source": [
    "# Create a box plot of average means\n",
    "\n",
    "sns.boxplot(zip_info.zip_mean).set(title='Cost of Houses')\n",
    "\n",
    "plt.savefig('images/zip_box.png', bbox_inches='tight', dpi=300)"
   ]
  },
  {
   "cell_type": "markdown",
   "metadata": {},
   "source": [
    "### Size of House"
   ]
  },
  {
   "cell_type": "markdown",
   "metadata": {},
   "source": [
    "Our models indicated a high importance of the square footage of the house to price. We wanted to look at the average cost of houses by square footage. As expected, as houses increased in size, so does averae price."
   ]
  },
  {
   "cell_type": "code",
   "execution_count": 41,
   "metadata": {},
   "outputs": [
    {
     "data": {
      "image/png": "[encoded data removed]",
      "text/plain": [
       "<Figure size 576x432 with 1 Axes>"
      ]
     },
     "metadata": {},
     "output_type": "display_data"
    }
   ],
   "source": [
    "# Visualize average prize of size of house\n",
    "\n",
    "sq_cat_an_price = df[['sqft_cat', 'price']]\n",
    "sq_cat_an_price = sq_cat_an_price.groupby('sqft_cat').mean('price')\n",
    "\n",
    "fig, ax = plt.subplots()\n",
    "\n",
    "x = sq_cat_an_price.index\n",
    "y = sq_cat_an_price.price/1000000\n",
    "\n",
    "ax.set_xlabel(\"Size of House (square feet)\")\n",
    "ax.set_ylabel(\"Average Price (millions)\")\n",
    "ax.set_title(\"Avg Price by Size of House\")\n",
    "\n",
    "plt.xticks(np.arange(10), ['', '< 1000', '1000 - 1500','1500 - 2000', \n",
    "                          '2000 - 2500', '2500 - 3000', '3000 - 3500',\n",
    "                          '4000 - 4500', '4500 - 5000', '> 5000'])\n",
    "\n",
    "plt.xticks(rotation=45, ha = 'right', rotation_mode = 'anchor')\n",
    "\n",
    "ax.bar(x,y)\n",
    "\n",
    "plt.savefig('images/sqft_cat_mean_price.png', bbox_inches='tight', dpi=300)"
   ]
  },
  {
   "cell_type": "markdown",
   "metadata": {},
   "source": [
    "### Waterfront"
   ]
  },
  {
   "cell_type": "markdown",
   "metadata": {},
   "source": [
    "Waterfront properties have a generally higher value. We wanted to see how often waterfront homes were sold and where they sold the most."
   ]
  },
  {
   "cell_type": "code",
   "execution_count": 42,
   "metadata": {},
   "outputs": [
    {
     "data": {
      "image/png": "[encoded data removed]",
      "text/plain": [
       "<Figure size 576x432 with 1 Axes>"
      ]
     },
     "metadata": {},
     "output_type": "display_data"
    }
   ],
   "source": [
    "# Visualize amount of waterfront homes\n",
    "waterfront_homes = df.value_counts('waterfront_YES_dum')\n",
    "sns.barplot(waterfront_homes.index, waterfront_homes.values, ).set(title='Waterfront Homes and Non-Waterfront Homes')\n",
    "\n",
    "plt.savefig('images/wat_amt.png', bbox_inches='tight', dpi=300)"
   ]
  },
  {
   "cell_type": "code",
   "execution_count": 43,
   "metadata": {},
   "outputs": [
    {
     "data": {
      "image/png": "[encoded data removed]",
      "text/plain": [
       "<Figure size 576x432 with 1 Axes>"
      ]
     },
     "metadata": {},
     "output_type": "display_data"
    }
   ],
   "source": [
    "# Get zips with most waterfronts sold\n",
    "\n",
    "df_zips_an_water = df[['zips', 'waterfront_YES_dum']]\n",
    "df_zips_water = df_zips_an_water.groupby('zips').sum('waterfront_YES_dum').sort_values('waterfront_YES_dum', ascending=False)\n",
    "df_zips_water = df_zips_water[df_zips_water['waterfront_YES_dum'] > 0]\n",
    "df_zips_water\n",
    "wat_top_10 = df_zips_water[0:10]\n",
    "\n",
    "# Create visualization of top 10 zips with watetfront homes sold\n",
    "fig, ax = plt.subplots()\n",
    "\n",
    "x = wat_top_10.index\n",
    "y = wat_top_10['waterfront_YES_dum']\n",
    "\n",
    "ax.set_xlabel(\"Zipcodes\")\n",
    "ax.set_ylabel(\"Waterfront Homes Sold\")\n",
    "ax.set_title(\"Zipcodes With Most Waterfront Homes Sold\")\n",
    "\n",
    "plt.xticks(rotation=45, ha = 'right', rotation_mode = 'anchor')\n",
    "\n",
    "ax.bar(x,y)\n",
    "\n",
    "plt.savefig('images/zips_water.png', bbox_inches='tight', dpi=300)"
   ]
  },
  {
   "cell_type": "markdown",
   "metadata": {},
   "source": [
    "### Distance from Madina"
   ]
  },
  {
   "cell_type": "markdown",
   "metadata": {},
   "source": [
    "We saw in our map that there was a cluster of high priced areas. We knew the highest priced zipcode was in this cluster and wanted to see the relationship between distance from this zip code and price. We created three price categories and foudn their average distance from the highest priced zipcode."
   ]
  },
  {
   "cell_type": "code",
   "execution_count": 44,
   "metadata": {},
   "outputs": [
    {
     "data": {
      "image/png": "[encoded data removed]",
      "text/plain": [
       "<Figure size 576x432 with 1 Axes>"
      ]
     },
     "metadata": {},
     "output_type": "display_data"
    }
   ],
   "source": [
    "# Get average distance from highest zip by price category\n",
    "\n",
    "price_an_dist = df[['price_cat', 'dist_high_zip']]\n",
    "pricecat_dist = price_an_dist.groupby('price_cat').mean('dist_high_zip')\n",
    "\n",
    "# Visualize\n",
    "\n",
    "fig, ax = plt.subplots()\n",
    "\n",
    "x = pricecat_dist.index\n",
    "y = pricecat_dist['dist_high_zip']\n",
    "\n",
    "ax.set_xlabel(\"Price Category\")\n",
    "ax.set_ylabel(\"Avg Dist to High Price Area (miles)\")\n",
    "ax.set_title(\"Price Category Average Distance From Most Expensive Area\")\n",
    "\n",
    "# ha = ['right', 'center', 'left']\n",
    "\n",
    "plt.xticks(np.arange(4), ['', 'Bottom 25%', 'Middle 50%', 'Top 25%'])\n",
    "\n",
    "ax.bar(x,y)\n",
    "\n",
    "plt.savefig('images/price_cats.png', bbox_inches='tight', dpi=300)"
   ]
  },
  {
   "cell_type": "markdown",
   "metadata": {},
   "source": [
    "### Condition Rating"
   ]
  },
  {
   "cell_type": "code",
   "execution_count": null,
   "metadata": {},
   "outputs": [],
   "source": []
  },
  {
   "cell_type": "code",
   "execution_count": 45,
   "metadata": {},
   "outputs": [
    {
     "data": {
      "image/png": "[encoded data removed]",
      "text/plain": [
       "<Figure size 576x432 with 1 Axes>"
      ]
     },
     "metadata": {},
     "output_type": "display_data"
    }
   ],
   "source": [
    "# Create visualization of averge price by condition rating\n",
    "\n",
    "price_an_cond = df[['cond_enc', 'price']]\n",
    "price_cond = price_an_cond.groupby('cond_enc').mean('price')\n",
    "\n",
    "fig, ax = plt.subplots()\n",
    "\n",
    "x = price_cond.index\n",
    "y = price_cond['price']/10000\n",
    "\n",
    "ax.set_xlabel(\"Condition Rating\")\n",
    "ax.set_ylabel(\"Avg Price (ten thousands)\")\n",
    "ax.set_title(\"Average Price by Condition Rating\")\n",
    "\n",
    "# ha = ['right', 'center', 'left']\n",
    "\n",
    "plt.xticks(np.arange(5), ['Poor', 'Fair', 'Average','Good','Very Good'])\n",
    "\n",
    "ax.bar(x,y)\n",
    "\n",
    "plt.savefig('images/ang_price_cond.png', bbox_inches='tight', dpi=300)"
   ]
  },
  {
   "cell_type": "code",
   "execution_count": null,
   "metadata": {},
   "outputs": [],
   "source": []
  },
  {
   "cell_type": "code",
   "execution_count": null,
   "metadata": {},
   "outputs": [],
   "source": []
  },
  {
   "cell_type": "code",
   "execution_count": null,
   "metadata": {},
   "outputs": [],
   "source": []
  },
  {
   "cell_type": "code",
   "execution_count": null,
   "metadata": {},
   "outputs": [],
   "source": []
  },
  {
   "cell_type": "code",
   "execution_count": null,
   "metadata": {},
   "outputs": [],
   "source": []
  },
  {
   "cell_type": "code",
   "execution_count": null,
   "metadata": {},
   "outputs": [],
   "source": []
  },
  {
   "cell_type": "code",
   "execution_count": null,
   "metadata": {},
   "outputs": [],
   "source": []
  },
  {
   "cell_type": "code",
   "execution_count": null,
   "metadata": {},
   "outputs": [],
   "source": []
  },
  {
   "cell_type": "code",
   "execution_count": null,
   "metadata": {},
   "outputs": [],
   "source": []
  },
  {
   "cell_type": "code",
   "execution_count": null,
   "metadata": {},
   "outputs": [],
   "source": []
  },
  {
   "cell_type": "code",
   "execution_count": null,
   "metadata": {},
   "outputs": [],
   "source": []
  },
  {
   "cell_type": "code",
   "execution_count": null,
   "metadata": {},
   "outputs": [],
   "source": []
  },
  {
   "cell_type": "code",
   "execution_count": null,
   "metadata": {},
   "outputs": [],
   "source": []
  },
  {
   "cell_type": "code",
   "execution_count": null,
   "metadata": {},
   "outputs": [],
   "source": []
  },
  {
   "cell_type": "markdown",
   "metadata": {},
   "source": [
    "# Ignore Everything Below Here!"
   ]
  },
  {
   "cell_type": "code",
   "execution_count": null,
   "metadata": {},
   "outputs": [],
   "source": []
  },
  {
   "cell_type": "code",
   "execution_count": null,
   "metadata": {},
   "outputs": [],
   "source": [
    "sq_cat_an_price.groupby"
   ]
  },
  {
   "cell_type": "code",
   "execution_count": null,
   "metadata": {},
   "outputs": [],
   "source": [
    "sq_cat_an_price = sq_cat_an_price.groupby('sqft_cat').mean('price')"
   ]
  },
  {
   "cell_type": "code",
   "execution_count": null,
   "metadata": {},
   "outputs": [],
   "source": []
  },
  {
   "cell_type": "code",
   "execution_count": null,
   "metadata": {},
   "outputs": [],
   "source": []
  },
  {
   "cell_type": "code",
   "execution_count": null,
   "metadata": {},
   "outputs": [],
   "source": [
    "int(sq_cat_an_price.iloc[2]) - int(sq_cat_an_price.iloc[1])"
   ]
  },
  {
   "cell_type": "code",
   "execution_count": null,
   "metadata": {},
   "outputs": [],
   "source": [
    "int(sq_cat_an_price.iloc[3]) - int(sq_cat_an_price.iloc[2])"
   ]
  },
  {
   "cell_type": "code",
   "execution_count": null,
   "metadata": {},
   "outputs": [],
   "source": [
    "int(sq_cat_an_price.iloc[4]) - int(sq_cat_an_price.iloc[3])"
   ]
  },
  {
   "cell_type": "code",
   "execution_count": null,
   "metadata": {},
   "outputs": [],
   "source": [
    "int(sq_cat_an_price.iloc[5]) - int(sq_cat_an_price.iloc[4])"
   ]
  },
  {
   "cell_type": "code",
   "execution_count": null,
   "metadata": {},
   "outputs": [],
   "source": [
    "int(sq_cat_an_price.iloc[6]) - int(sq_cat_an_price.iloc[5])"
   ]
  },
  {
   "cell_type": "code",
   "execution_count": null,
   "metadata": {},
   "outputs": [],
   "source": [
    "int(sq_cat_an_price.iloc[7]) - int(sq_cat_an_price.iloc[6])"
   ]
  },
  {
   "cell_type": "code",
   "execution_count": null,
   "metadata": {},
   "outputs": [],
   "source": [
    "int(sq_cat_an_price.iloc[8]) - int(sq_cat_an_price.iloc[7])"
   ]
  },
  {
   "cell_type": "code",
   "execution_count": null,
   "metadata": {},
   "outputs": [],
   "source": [
    "int(sq_cat_an_price.iloc[7]) - int(sq_cat_an_price.iloc[6])"
   ]
  },
  {
   "cell_type": "code",
   "execution_count": null,
   "metadata": {},
   "outputs": [],
   "source": []
  },
  {
   "cell_type": "code",
   "execution_count": null,
   "metadata": {},
   "outputs": [],
   "source": []
  },
  {
   "cell_type": "code",
   "execution_count": null,
   "metadata": {},
   "outputs": [],
   "source": []
  },
  {
   "cell_type": "code",
   "execution_count": null,
   "metadata": {},
   "outputs": [],
   "source": [
    "int(sq_cat_an_price.iloc[3])"
   ]
  },
  {
   "cell_type": "code",
   "execution_count": null,
   "metadata": {},
   "outputs": [],
   "source": [
    "sns.barplot(sq_cat_an_price.index, sq_cat_an_price.price)"
   ]
  },
  {
   "cell_type": "code",
   "execution_count": null,
   "metadata": {},
   "outputs": [],
   "source": []
  },
  {
   "cell_type": "code",
   "execution_count": null,
   "metadata": {},
   "outputs": [],
   "source": []
  },
  {
   "cell_type": "code",
   "execution_count": null,
   "metadata": {},
   "outputs": [],
   "source": []
  },
  {
   "cell_type": "code",
   "execution_count": null,
   "metadata": {},
   "outputs": [],
   "source": [
    "df['price'].mean()"
   ]
  },
  {
   "cell_type": "code",
   "execution_count": null,
   "metadata": {},
   "outputs": [],
   "source": []
  },
  {
   "cell_type": "code",
   "execution_count": null,
   "metadata": {},
   "outputs": [],
   "source": []
  },
  {
   "cell_type": "code",
   "execution_count": null,
   "metadata": {},
   "outputs": [],
   "source": []
  },
  {
   "cell_type": "code",
   "execution_count": null,
   "metadata": {},
   "outputs": [],
   "source": []
  },
  {
   "cell_type": "code",
   "execution_count": null,
   "metadata": {},
   "outputs": [],
   "source": []
  },
  {
   "cell_type": "code",
   "execution_count": null,
   "metadata": {},
   "outputs": [],
   "source": []
  },
  {
   "cell_type": "code",
   "execution_count": null,
   "metadata": {},
   "outputs": [],
   "source": []
  },
  {
   "cell_type": "code",
   "execution_count": null,
   "metadata": {},
   "outputs": [],
   "source": [
    "sns.boxplot(df.sqft_living).set(title='house size')"
   ]
  },
  {
   "cell_type": "code",
   "execution_count": null,
   "metadata": {},
   "outputs": [],
   "source": [
    "df.sqft_cat.value_counts()"
   ]
  },
  {
   "cell_type": "code",
   "execution_count": null,
   "metadata": {},
   "outputs": [],
   "source": []
  },
  {
   "cell_type": "code",
   "execution_count": null,
   "metadata": {},
   "outputs": [],
   "source": []
  },
  {
   "cell_type": "code",
   "execution_count": null,
   "metadata": {},
   "outputs": [],
   "source": []
  },
  {
   "cell_type": "code",
   "execution_count": null,
   "metadata": {},
   "outputs": [],
   "source": []
  },
  {
   "cell_type": "code",
   "execution_count": null,
   "metadata": {},
   "outputs": [],
   "source": []
  },
  {
   "cell_type": "code",
   "execution_count": null,
   "metadata": {},
   "outputs": [],
   "source": []
  },
  {
   "cell_type": "code",
   "execution_count": null,
   "metadata": {},
   "outputs": [],
   "source": [
    "# Get top 10 highest average priced zips\n",
    "\n",
    "zip_info = df[['zips', 'zip_mean']].drop_duplicates()\n",
    "zip_top_10 = zip_info.sort_values('zip_mean', ascending=False)[0:10]\n",
    "zip_top_10\n",
    "\n",
    "sns.barplot(zip_top_10['zips'], zip_top_10['zip_mean'], ).set(title='Top 10 Price Zips')"
   ]
  },
  {
   "cell_type": "code",
   "execution_count": null,
   "metadata": {},
   "outputs": [],
   "source": []
  },
  {
   "cell_type": "code",
   "execution_count": null,
   "metadata": {},
   "outputs": [],
   "source": [
    "# Get top 10 highest average priced zips\n",
    "\n",
    "sns.barplot(zip_bot_10['zips'], zip_bot_10['zip_mean'], ).set(title='Top 10 Price Zips')"
   ]
  },
  {
   "cell_type": "code",
   "execution_count": null,
   "metadata": {},
   "outputs": [],
   "source": [
    "df.zip_mean.describe()"
   ]
  },
  {
   "cell_type": "code",
   "execution_count": null,
   "metadata": {},
   "outputs": [],
   "source": [
    "# Get the higest correlated features to price\n",
    "# Removed directly price related features except for zip_mean\n",
    "\n",
    "df_corrs = df.corr()['price'].map(abs).sort_values(ascending=False)\n",
    "df_corrs = df_corrs.drop(['price', 'log_price', 'lat', 'price_cat', 'sqrt_dist_high_zip', 'dist_high_zip'])\n",
    "top_10_corrs = df_corrs[0:10]\n",
    "\n",
    "sns.set(rc={'figure.figsize':(12, 6)})\n",
    "\n",
    "sns.barplot(top_10_corrs.index, top_10_corrs.values).set(title='Top 10 Price Correlated Features')\n",
    "plt.xticks(rotation=45)"
   ]
  },
  {
   "cell_type": "code",
   "execution_count": null,
   "metadata": {},
   "outputs": [],
   "source": [
    "# Show scatter of beds and baths\n",
    "# I think this should be a two axis figure showing beds and baths with price. JJ will create this Thusday\n",
    "\n",
    "\n",
    "sns.set(rc={'figure.figsize':(6, 6)})\n",
    "\n",
    "sns.scatterplot(df['bedrooms'],df['price']).set(title='Price and Bedrooms')"
   ]
  },
  {
   "cell_type": "code",
   "execution_count": null,
   "metadata": {},
   "outputs": [],
   "source": [
    "df.corr()['price']['bedrooms']"
   ]
  },
  {
   "cell_type": "code",
   "execution_count": null,
   "metadata": {},
   "outputs": [],
   "source": [
    "sns.set(rc={'figure.figsize':(6, 6)})\n",
    "\n",
    "sns.scatterplot(df['bathrooms'],df['price']).set(title='Price and Bathrooms')"
   ]
  },
  {
   "cell_type": "code",
   "execution_count": null,
   "metadata": {},
   "outputs": [],
   "source": [
    "df.corr()['price']['bathrooms']"
   ]
  },
  {
   "cell_type": "code",
   "execution_count": null,
   "metadata": {},
   "outputs": [],
   "source": [
    "# Create bar vizs of coeeficients and correlations of renovation option features\n",
    "\n",
    "feats_mod_table1"
   ]
  },
  {
   "cell_type": "code",
   "execution_count": null,
   "metadata": {},
   "outputs": [],
   "source": []
  },
  {
   "cell_type": "code",
   "execution_count": null,
   "metadata": {},
   "outputs": [],
   "source": [
    "sns.set(rc={'figure.figsize':(12, 6)})\n",
    "\n",
    "feats_mod_table1_bar = feats_mod_table1.drop(labels=['const', 'price_cat', 'gr_above_avg', 'cond_enc'])\n",
    "\n",
    "sns.barplot(feats_mod_table1_bar.index, feats_mod_table1_bar['coef']).set(title='Coefficeint of Renovation Features to Price')\n",
    "plt.xticks(rotation=45)"
   ]
  },
  {
   "cell_type": "code",
   "execution_count": null,
   "metadata": {
    "scrolled": true
   },
   "outputs": [],
   "source": [
    "feats_mod_table1_bar = feats_mod_table1_bar.sort_values('coef', ascending=False)"
   ]
  },
  {
   "cell_type": "code",
   "execution_count": null,
   "metadata": {},
   "outputs": [],
   "source": [
    "#Visualize Coefficients from Renovations Features Model\n",
    "\n",
    "feats_mod_table1_bar = feats_mod_table1_bar.sort_values('coef', ascending=False)\n",
    "\n",
    "fig, ax = plt.subplots()\n",
    "\n",
    "x = feats_mod_table1_bar.index\n",
    "y = feats_mod_table1_bar['coef']\n",
    "\n",
    "ax.set_xlabel(\"Renovation Features\")\n",
    "ax.set_ylabel(\"Coefficeint With Price\")\n",
    "ax.set_title(\"Coefficeint of Renovation Features with Price\")\n",
    "\n",
    "ax.set_xticklabels(['Bathrooms', 'Bedrooms', 'Has Basement', 'Has Patio', 'Floors'])      \n",
    "plt.xticks(rotation=45, ha = 'right', rotation_mode = 'anchor')  \n",
    "\n",
    "ax.bar(x,y)"
   ]
  },
  {
   "cell_type": "code",
   "execution_count": null,
   "metadata": {},
   "outputs": [],
   "source": [
    "fig, ax = plt.subplots()\n",
    "\n",
    "x = feats_mod_table1_bar.index\n",
    "y = feats_mod_table1_bar['coef']\n",
    "\n",
    "ax.set_xlabel(\"Renovation Features\")\n",
    "ax.set_ylabel(\"Coefficient of Price\")\n",
    "ax.set_title(\"Correlation of Renovation Features to Price\")\n",
    "\n",
    "# ax.set_xticklabels(['Bathrooms', 'Bedrooms', 'Floors', 'Has Patio', 'Has Basement', 'Has Garage', 'Condition Rating'])      \n",
    "plt.xticks(rotation=45, ha = 'right', rotation_mode = 'anchor')  \n",
    "\n",
    "ax.bar(x,y)"
   ]
  },
  {
   "cell_type": "code",
   "execution_count": null,
   "metadata": {},
   "outputs": [],
   "source": [
    "feats_reno_bar_corr = df[['price',\n",
    "                        'has_basement', \n",
    "                        'has_patio', \n",
    "                        'has_garage',  \n",
    "                        'floors',\n",
    "                        'bedrooms',\n",
    "                        'bathrooms',\n",
    "                       ]]\n",
    "feats_reno_bar = feats_reno_bar_corr.corr()['price']"
   ]
  },
  {
   "cell_type": "code",
   "execution_count": null,
   "metadata": {},
   "outputs": [],
   "source": [
    "feats_reno_bar = feats_reno_bar.drop('price')\n",
    "feats_reno_bar.sort_values(ascending=False, inplace=True)"
   ]
  },
  {
   "cell_type": "code",
   "execution_count": null,
   "metadata": {},
   "outputs": [],
   "source": [
    "sns.barplot(feats_reno_bar.index, feats_reno_bar.values, ).set(title='Coefficeint of Renovation Features to Price')"
   ]
  },
  {
   "cell_type": "code",
   "execution_count": null,
   "metadata": {},
   "outputs": [],
   "source": [
    "fig, ax = plt.subplots()\n",
    "\n",
    "x = feats_reno_bar.index\n",
    "y = feats_reno_bar.values\n",
    "\n",
    "ax.set_xlabel(\"Renovation Features\")\n",
    "ax.set_ylabel(\"Correlation with Price\")\n",
    "ax.set_title(\"Correlation of Renovation Features to Price\")\n",
    "\n",
    "ax.set_xticklabels(['Bathrooms', 'Bedrooms', 'Floors', 'Has Patio', 'Has Basement', 'Has Garage'])      \n",
    "plt.xticks(rotation=45, ha = 'right', rotation_mode = 'anchor')  \n",
    "\n",
    "ax.bar(x,y)\n",
    "\n",
    "#plt.savefig('images/top_studios_filt_gross.png', bbox_inches='tight')"
   ]
  },
  {
   "cell_type": "code",
   "execution_count": null,
   "metadata": {
    "scrolled": true
   },
   "outputs": [],
   "source": []
  },
  {
   "cell_type": "code",
   "execution_count": null,
   "metadata": {},
   "outputs": [],
   "source": [
    "waterfront_homes = df.value_counts('waterfront_YES_dum')\n",
    "waterfront_homes"
   ]
  },
  {
   "cell_type": "code",
   "execution_count": null,
   "metadata": {},
   "outputs": [],
   "source": [
    "wat_top_10"
   ]
  },
  {
   "cell_type": "code",
   "execution_count": null,
   "metadata": {},
   "outputs": [],
   "source": [
    "# Get zips with most waterfronts sold\n",
    "\n",
    "df_zips_an_water = df[['zips', 'waterfront_YES_dum']]\n",
    "df_zips_water = df_zips_an_water.groupby('zips').sum('waterfront_YES_dum').sort_values('waterfront_YES_dum', ascending=False)\n",
    "df_zips_water = df_zips_water[df_zips_water['waterfront_YES_dum'] > 0]\n",
    "df_zips_water\n",
    "wat_top_10 = df_zips_water[0:10]\n",
    "\n",
    "# Create visualization of top 10 zips with watetfront homes sold\n",
    "sns.barplot(wat_top_10.index, wat_top_10['waterfront_YES_dum'], ).set(title='Zipcodes With Most Waterfront Homes Sold')"
   ]
  },
  {
   "cell_type": "code",
   "execution_count": null,
   "metadata": {},
   "outputs": [],
   "source": [
    "df.columns"
   ]
  },
  {
   "cell_type": "code",
   "execution_count": null,
   "metadata": {},
   "outputs": [],
   "source": [
    "# Get average distance from highest zip by price category\n",
    "\n",
    "price_an_dist = df[['price_cat', 'dist_high_zip']]\n",
    "pricecat_dist = price_an_dist.groupby('price_cat').mean('dist_high_zip')\n",
    "\n",
    "# Create viz\n",
    "sns.barplot(pricecat_dist.index, pricecat_dist['dist_high_zip']).set(title='Price Category Average Distance From Most Expensive Are')"
   ]
  },
  {
   "cell_type": "code",
   "execution_count": null,
   "metadata": {},
   "outputs": [],
   "source": []
  },
  {
   "cell_type": "code",
   "execution_count": null,
   "metadata": {},
   "outputs": [],
   "source": [
    "\n",
    "price_cond\n"
   ]
  },
  {
   "cell_type": "code",
   "execution_count": null,
   "metadata": {},
   "outputs": [],
   "source": [
    "price_cond.index"
   ]
  },
  {
   "cell_type": "code",
   "execution_count": null,
   "metadata": {},
   "outputs": [],
   "source": [
    "price_cond['price']"
   ]
  },
  {
   "cell_type": "code",
   "execution_count": null,
   "metadata": {},
   "outputs": [],
   "source": []
  },
  {
   "cell_type": "code",
   "execution_count": null,
   "metadata": {},
   "outputs": [],
   "source": [
    "df['price'].describe()"
   ]
  },
  {
   "cell_type": "code",
   "execution_count": null,
   "metadata": {},
   "outputs": [],
   "source": [
    "sns.boxenplot(df['price'])"
   ]
  },
  {
   "cell_type": "code",
   "execution_count": null,
   "metadata": {},
   "outputs": [],
   "source": []
  },
  {
   "cell_type": "code",
   "execution_count": null,
   "metadata": {},
   "outputs": [],
   "source": []
  },
  {
   "cell_type": "code",
   "execution_count": null,
   "metadata": {},
   "outputs": [],
   "source": []
  },
  {
   "cell_type": "code",
   "execution_count": null,
   "metadata": {},
   "outputs": [],
   "source": []
  },
  {
   "cell_type": "code",
   "execution_count": null,
   "metadata": {},
   "outputs": [],
   "source": []
  },
  {
   "cell_type": "code",
   "execution_count": null,
   "metadata": {},
   "outputs": [],
   "source": []
  },
  {
   "cell_type": "code",
   "execution_count": null,
   "metadata": {},
   "outputs": [],
   "source": []
  },
  {
   "cell_type": "code",
   "execution_count": null,
   "metadata": {},
   "outputs": [],
   "source": []
  },
  {
   "cell_type": "code",
   "execution_count": null,
   "metadata": {},
   "outputs": [],
   "source": []
  },
  {
   "cell_type": "code",
   "execution_count": null,
   "metadata": {},
   "outputs": [],
   "source": [
    "df.columns"
   ]
  },
  {
   "cell_type": "code",
   "execution_count": null,
   "metadata": {},
   "outputs": [],
   "source": [
    "# # Scale all\n",
    "\n",
    "# df_no_price = df.drop(['price'], axis=1)\n",
    "\n",
    "# df_scaled = (df_no_price - np.mean(df_no_price)) / np.std(df_no_price)"
   ]
  },
  {
   "cell_type": "code",
   "execution_count": null,
   "metadata": {},
   "outputs": [],
   "source": [
    "# # Model all features sclaed\n",
    "\n",
    "# y = y\n",
    "# X = sm.add_constant(df_scaled.drop(['id', 'long', 'lat'], axis=1))\n",
    "\n",
    "# results = sm.OLS(y,X).fit()\n",
    "# results.summary()"
   ]
  },
  {
   "cell_type": "code",
   "execution_count": null,
   "metadata": {},
   "outputs": [],
   "source": []
  },
  {
   "cell_type": "code",
   "execution_count": null,
   "metadata": {},
   "outputs": [],
   "source": []
  },
  {
   "cell_type": "code",
   "execution_count": null,
   "metadata": {},
   "outputs": [],
   "source": [
    "# Run model with sqft_living and grade_enc, the two higest correlations to price at this point\n",
    "\n",
    "# Get sqaure foot living and grade encoded and concatonate\n",
    "df_gr_enc = pd.DataFrame(df.grade_enc)\n",
    "df_sq_ft = pd.DataFrame(df.sqft_living)\n",
    "X3 = pd.concat([df_sq_ft, df_gr_enc], axis=1)\n",
    "\n",
    "y = df['price']\n",
    "X = sm.add_constant(X3)\n",
    "\n",
    "# Run model\n",
    "results = sm.OLS(y,X).fit()\n",
    "results.summary()"
   ]
  },
  {
   "cell_type": "code",
   "execution_count": null,
   "metadata": {},
   "outputs": [],
   "source": [
    "sns.histplot(df['sqft_garage'], kde=True)"
   ]
  },
  {
   "cell_type": "code",
   "execution_count": null,
   "metadata": {},
   "outputs": [],
   "source": [
    "df['al300_sqft_garage'] = df['sqft_garage'] > 300\n",
    "\n",
    "y = df['price']\n",
    "X = sm.add_constant(df['sqft_garage'])\n",
    "\n",
    "# Run model\n",
    "results = sm.OLS(y,X).fit()\n",
    "results.summary()"
   ]
  },
  {
   "cell_type": "code",
   "execution_count": null,
   "metadata": {},
   "outputs": [],
   "source": [
    "df['al300_sqft_garage'] = df['sqft_garage'] > 300\n",
    "\n",
    "y = y_scld\n",
    "X = sm.add_constant(df[['sqft_garage','grade_enc', 'price_cat']])\n",
    "\n",
    "# Run model\n",
    "results = sm.OLS(y,X).fit()\n",
    "results.summary()"
   ]
  },
  {
   "cell_type": "code",
   "execution_count": null,
   "metadata": {},
   "outputs": [],
   "source": [
    "df['al300_sqft_garage'] = df['sqft_garage'] > 300\n",
    "\n",
    "y = df['price']\n",
    "X = sm.add_constant(df['grade_enc'])\n",
    "\n",
    "# Run model\n",
    "results = sm.OLS(y,X).fit()\n",
    "results.summary()"
   ]
  },
  {
   "cell_type": "code",
   "execution_count": null,
   "metadata": {},
   "outputs": [],
   "source": [
    "df[['sqft_garage','grade_enc']]\n"
   ]
  },
  {
   "cell_type": "code",
   "execution_count": null,
   "metadata": {},
   "outputs": [],
   "source": []
  },
  {
   "cell_type": "code",
   "execution_count": null,
   "metadata": {
    "scrolled": false
   },
   "outputs": [],
   "source": [
    "sns.histplot(df['sqft_living'], kde=True)"
   ]
  },
  {
   "cell_type": "code",
   "execution_count": null,
   "metadata": {},
   "outputs": [],
   "source": [
    "df.corr()['price']['sq_liv_log']\n"
   ]
  },
  {
   "cell_type": "code",
   "execution_count": null,
   "metadata": {},
   "outputs": [],
   "source": []
  },
  {
   "cell_type": "code",
   "execution_count": null,
   "metadata": {},
   "outputs": [],
   "source": [
    "df['sq_abv_log'] = np.log(df['sqft_above'])\n",
    "sns.histplot(df['sq_abv_log'], kde=True)\n",
    "df.corr()['price']['sq_abv_log']"
   ]
  },
  {
   "cell_type": "code",
   "execution_count": null,
   "metadata": {},
   "outputs": [],
   "source": [
    "df['sq_abv_log'] = np.log(df['sqft_above'])\n",
    "sns.histplot(df['sq_abv_log'], kde=True)\n",
    "df.corr()['price']['sq_abv_log']"
   ]
  },
  {
   "cell_type": "code",
   "execution_count": null,
   "metadata": {},
   "outputs": [],
   "source": [
    "df['has_basement'] = "
   ]
  },
  {
   "cell_type": "code",
   "execution_count": null,
   "metadata": {},
   "outputs": [],
   "source": []
  },
  {
   "cell_type": "code",
   "execution_count": null,
   "metadata": {},
   "outputs": [],
   "source": [
    "sns.histplot(df['sqft_garage'], kde=True)"
   ]
  },
  {
   "cell_type": "code",
   "execution_count": null,
   "metadata": {},
   "outputs": [],
   "source": [
    "df['has_garage'] = [1 if x > 0 else 0 for x in df['sqft_garage']]\n",
    "df['has_basement'] = [1 if x > 0 else 0 for x in df['sqft_basement']]\n",
    "df['has_patio'] = [1 if x > 0 else 0 for x in df['sqft_patio']]\n",
    "df['has_garage']"
   ]
  },
  {
   "cell_type": "code",
   "execution_count": null,
   "metadata": {},
   "outputs": [],
   "source": [
    "df.corr()['price']['has_garage']\n",
    "#sns.histplot(df['has_garage'], kde=True)"
   ]
  },
  {
   "cell_type": "code",
   "execution_count": null,
   "metadata": {},
   "outputs": [],
   "source": [
    "df['has_basement'] = [1 if x > 0 else 0 for x in df['sqft_basement']]\n",
    "df['has_basement']"
   ]
  },
  {
   "cell_type": "code",
   "execution_count": null,
   "metadata": {},
   "outputs": [],
   "source": [
    "df['has_patio'] = [1 if x > 0 else 0 for x in df['sqft_patio']]\n",
    "df['has_patio']"
   ]
  },
  {
   "cell_type": "code",
   "execution_count": null,
   "metadata": {},
   "outputs": [],
   "source": [
    "df.corr()['price']['has_patio']\n",
    "#sns.histplot(df['has_garage'], kde=True)"
   ]
  },
  {
   "cell_type": "code",
   "execution_count": null,
   "metadata": {},
   "outputs": [],
   "source": []
  },
  {
   "cell_type": "code",
   "execution_count": null,
   "metadata": {},
   "outputs": [],
   "source": [
    "df.corr()['price']['has_basement']\n",
    "#sns.histplot(df['has_garage'], kde=True)"
   ]
  },
  {
   "cell_type": "markdown",
   "metadata": {},
   "source": [
    "# HERE"
   ]
  },
  {
   "cell_type": "code",
   "execution_count": null,
   "metadata": {
    "scrolled": true
   },
   "outputs": [],
   "source": [
    "# Run baseline model\n",
    "\n",
    "sqft_log = np.log(df.sqft_living)\n",
    "\n",
    "y = df['price']\n",
    "X = sm.add_constant(df[['zip_mean', 'sqft_living' ]])\n",
    "\n",
    "results = sm.OLS(y,X).fit()\n",
    "results.summary()"
   ]
  },
  {
   "cell_type": "code",
   "execution_count": null,
   "metadata": {},
   "outputs": [],
   "source": [
    "df['grade_squared'] = df['grade_enc']**2"
   ]
  },
  {
   "cell_type": "code",
   "execution_count": null,
   "metadata": {},
   "outputs": [],
   "source": [
    "df_VIF = df[['price_cat',\n",
    "             'grade_enc',\n",
    "             'has_basement', \n",
    "             'has_patio', \n",
    "             'has_garage',  \n",
    "             'floors',\n",
    "             'bedrooms',\n",
    "             'bathrooms',\n",
    "             'cond_enc',\n",
    "            ]]\n",
    "\n",
    "\n",
    "vif=pd.DataFrame()\n",
    "vif['feature'] = df_VIF.columns\n",
    "vif[\"VIF\"] = [variance_inflation_factor(df_VIF.values, i)\n",
    "                          for i in range(len(df_VIF.columns))]\n",
    "\n",
    "vif.sort_values('VIF',ascending=False)"
   ]
  },
  {
   "cell_type": "code",
   "execution_count": null,
   "metadata": {},
   "outputs": [],
   "source": []
  },
  {
   "cell_type": "code",
   "execution_count": null,
   "metadata": {},
   "outputs": [],
   "source": []
  },
  {
   "cell_type": "code",
   "execution_count": null,
   "metadata": {},
   "outputs": [],
   "source": []
  },
  {
   "cell_type": "code",
   "execution_count": null,
   "metadata": {},
   "outputs": [],
   "source": []
  },
  {
   "cell_type": "code",
   "execution_count": null,
   "metadata": {},
   "outputs": [],
   "source": []
  },
  {
   "cell_type": "code",
   "execution_count": null,
   "metadata": {},
   "outputs": [],
   "source": []
  },
  {
   "cell_type": "code",
   "execution_count": null,
   "metadata": {},
   "outputs": [],
   "source": []
  },
  {
   "cell_type": "code",
   "execution_count": null,
   "metadata": {},
   "outputs": [],
   "source": []
  },
  {
   "cell_type": "code",
   "execution_count": null,
   "metadata": {},
   "outputs": [],
   "source": []
  },
  {
   "cell_type": "code",
   "execution_count": null,
   "metadata": {},
   "outputs": [],
   "source": [
    "df['yard'] =  df.sqft_living / df.sqft_lot"
   ]
  },
  {
   "cell_type": "code",
   "execution_count": null,
   "metadata": {},
   "outputs": [],
   "source": [
    "df.corr()['price']['yard']"
   ]
  },
  {
   "cell_type": "code",
   "execution_count": null,
   "metadata": {},
   "outputs": [],
   "source": [
    "df.corr()['price']['sqft_above']"
   ]
  },
  {
   "cell_type": "code",
   "execution_count": null,
   "metadata": {},
   "outputs": [],
   "source": [
    "y = y\n",
    "X = sm.add_constant(df[['has_basement', 'view_enc',  'has_patio', 'has_garage', 'bedrooms', 'bathrooms', 'floors', 'price_cat', 'dist_bellevue']])\n",
    "\n",
    "# Run model\n",
    "results = sm.OLS(y,X).fit()\n",
    "results.summary()"
   ]
  },
  {
   "cell_type": "code",
   "execution_count": null,
   "metadata": {},
   "outputs": [],
   "source": [
    "y = y\n",
    "X = sm.add_constant(df[['has_basement', 'view_enc',  'has_patio', 'has_garage', 'bedrooms', 'bathrooms', 'floors', 'price_cat', 'dist_bellevue']])\n",
    "\n",
    "# Run model\n",
    "results = sm.OLS(y,X).fit()\n",
    "results.summary()"
   ]
  },
  {
   "cell_type": "code",
   "execution_count": null,
   "metadata": {},
   "outputs": [],
   "source": [
    "y = y_scld\n",
    "X = sm.add_constant(df[['has_basement', 'view_enc',  'has_patio', 'has_garage', 'bedrooms', 'bathrooms', 'floors', 'price_cat', 'dist_bellevue']])\n",
    "\n",
    "# Run model\n",
    "results = sm.OLS(y,X).fit()\n",
    "results.summary()"
   ]
  },
  {
   "cell_type": "code",
   "execution_count": null,
   "metadata": {},
   "outputs": [],
   "source": [
    "y = y\n",
    "X = sm.add_constant(df[['price_cat', 'dist_bellevue']])\n",
    "\n",
    "# Run model\n",
    "results = sm.OLS(y,X).fit()\n",
    "results.summary()"
   ]
  },
  {
   "cell_type": "code",
   "execution_count": null,
   "metadata": {},
   "outputs": [],
   "source": [
    "df['sqft_above_log'] = np.log(df.sqft_above)"
   ]
  },
  {
   "cell_type": "code",
   "execution_count": null,
   "metadata": {},
   "outputs": [],
   "source": [
    "y = y\n",
    "X = sm.add_constant(df[['sqft_above_log', 'has_basement', 'bathrooms']])\n",
    "\n",
    "# Run model\n",
    "results = sm.OLS(y,X).fit()\n",
    "results.summary()"
   ]
  },
  {
   "cell_type": "code",
   "execution_count": null,
   "metadata": {},
   "outputs": [],
   "source": [
    "# Loo sqft per "
   ]
  },
  {
   "cell_type": "code",
   "execution_count": null,
   "metadata": {},
   "outputs": [],
   "source": [
    "y = y\n",
    "X = sm.add_constant(df[['bedrooms', 'bathrooms', 'has_basement', 'has_patio', 'has_garage', ]])\n",
    "\n",
    "# Run model\n",
    "results = sm.OLS(y,X).fit()\n",
    "results.summary()"
   ]
  },
  {
   "cell_type": "code",
   "execution_count": null,
   "metadata": {},
   "outputs": [],
   "source": [
    "# Create function that identifies outliers\n",
    "\n",
    "def find_outliers_IQR(df):\n",
    "   q1=df.quantile(0.25)\n",
    "   q3=df.quantile(0.75)\n",
    "   IQR=q3-q1\n",
    "   outliers = df[((df<(q1-1.5*IQR)) | (df>(q3+1.5*IQR)))]\n",
    "   return outliers"
   ]
  },
  {
   "cell_type": "code",
   "execution_count": null,
   "metadata": {},
   "outputs": [],
   "source": [
    "find_outliers_IQR(df['sqft_living'])"
   ]
  },
  {
   "cell_type": "code",
   "execution_count": null,
   "metadata": {},
   "outputs": [],
   "source": [
    "# Create a column of mean prices by zip\n",
    "\n",
    "# Get zip code form address\n",
    "\n",
    "df['zip'] = df['address'].str.extract(r'(\\d{5}\\-?\\d{0,4})')\n",
    "df['zip'].head(50)\n",
    "\n",
    "#Creaet dict of mean prices by zip code\n",
    "zips_avg_prices = df.groupby(df.zip).mean()['price']\n",
    "zip_mean_dict = zips_avg_prices.to_dict()\n",
    "\n",
    "# Map mean proce by zip into new column\n",
    "df['zip_mean'] = df['zip'].map(zip_mean_dict)\n",
    "df['zip_mean']\n",
    "\n",
    "Create zip price mean category column\n",
    "\n",
    "price_cat = []\n",
    "\n",
    "for price in df['zip_mean']:\n",
    "    if price < 714997.7:\n",
    "        price_cat.append(1)\n",
    "    elif price < 1320000:\n",
    "        price_cat.append(2)\n",
    "    else:\n",
    "        price_cat.append(3)\n",
    "        \n",
    "df['price_cat'] = price_cat"
   ]
  },
  {
   "cell_type": "code",
   "execution_count": null,
   "metadata": {},
   "outputs": [],
   "source": [
    "get_outliers(df['price'])"
   ]
  },
  {
   "cell_type": "code",
   "execution_count": null,
   "metadata": {},
   "outputs": [],
   "source": [
    "get_outliers(df['sqft_living'])"
   ]
  },
  {
   "cell_type": "code",
   "execution_count": null,
   "metadata": {},
   "outputs": [],
   "source": [
    "get_outliers(df['sqft_above'])"
   ]
  },
  {
   "cell_type": "code",
   "execution_count": null,
   "metadata": {},
   "outputs": [],
   "source": [
    "df_less_outs = df[df['price'] < 2309000]\n",
    "df_less_outs = df_less_outs[df_less_outs['sqft_living'] < 4450]\n",
    "df_less_outs = df_less_outs[df_less_outs['sqft_above'] < 3950]\n",
    "df = df_less_outs"
   ]
  },
  {
   "cell_type": "code",
   "execution_count": null,
   "metadata": {},
   "outputs": [],
   "source": [
    "df['sqft_lot'].describe()"
   ]
  },
  {
   "cell_type": "code",
   "execution_count": null,
   "metadata": {},
   "outputs": [],
   "source": [
    "# sns.boxenplot(df['sqft_living'])\n",
    "sns.boxplot(df['sqft_living'])"
   ]
  },
  {
   "cell_type": "code",
   "execution_count": null,
   "metadata": {},
   "outputs": [],
   "source": [
    "sns.histplot(df['sqft_living'], kde=True)"
   ]
  },
  {
   "cell_type": "code",
   "execution_count": null,
   "metadata": {},
   "outputs": [],
   "source": [
    "df['sqft_living'].quantile()"
   ]
  },
  {
   "cell_type": "code",
   "execution_count": null,
   "metadata": {},
   "outputs": [],
   "source": [
    "sns.histplot(df['sqft_garage'], kde=True)"
   ]
  },
  {
   "cell_type": "code",
   "execution_count": null,
   "metadata": {},
   "outputs": [],
   "source": [
    "df['patio_gr_one'] = df['sqft_patio'] > 1\n",
    "df['patio_gr_one'] = df.patio_gr_one.astype(int)\n",
    "\n",
    "df.corr()['price']['patio_gr_one']"
   ]
  },
  {
   "cell_type": "code",
   "execution_count": null,
   "metadata": {},
   "outputs": [],
   "source": [
    "df.corr"
   ]
  },
  {
   "cell_type": "code",
   "execution_count": null,
   "metadata": {},
   "outputs": [],
   "source": [
    "sns.histplot(patio_gr_one, kde=True)"
   ]
  },
  {
   "cell_type": "code",
   "execution_count": null,
   "metadata": {},
   "outputs": [],
   "source": [
    "df['sqft_per_bath'] = df.sqft_living / df.bathrooms\n",
    "df.corr()['price']['sqft_per_bath']"
   ]
  },
  {
   "cell_type": "code",
   "execution_count": null,
   "metadata": {},
   "outputs": [],
   "source": [
    "df['bath_per_sqft'] = df.bathrooms / df.sqft_living\n",
    "df.corr()['price']['bath_per_sqft']"
   ]
  },
  {
   "cell_type": "code",
   "execution_count": null,
   "metadata": {},
   "outputs": [],
   "source": [
    "# sf living per sf lot"
   ]
  },
  {
   "cell_type": "code",
   "execution_count": null,
   "metadata": {},
   "outputs": [],
   "source": [
    "df['sqft_per_lot'] = df.sqft_living / df.sqft_lot\n",
    "df.corr()['price']['sqft_per_lot']"
   ]
  },
  {
   "cell_type": "code",
   "execution_count": null,
   "metadata": {},
   "outputs": [],
   "source": [
    "df['bath_per_bed'] = df.bathrooms / df.bedrooms\n",
    "df.corr()['price']['bath_per_bed']"
   ]
  },
  {
   "cell_type": "code",
   "execution_count": null,
   "metadata": {},
   "outputs": [],
   "source": [
    "\n",
    "df.corr()['price']['price_cat']"
   ]
  },
  {
   "cell_type": "code",
   "execution_count": null,
   "metadata": {},
   "outputs": [],
   "source": []
  },
  {
   "cell_type": "code",
   "execution_count": null,
   "metadata": {},
   "outputs": [],
   "source": []
  },
  {
   "cell_type": "markdown",
   "metadata": {},
   "source": [
    "# Everything below here is a mess"
   ]
  },
  {
   "cell_type": "code",
   "execution_count": null,
   "metadata": {},
   "outputs": [],
   "source": []
  },
  {
   "cell_type": "code",
   "execution_count": null,
   "metadata": {},
   "outputs": [],
   "source": [
    "pf = PolynomialFeatures(degree=2)\n",
    "\n",
    "X = df.drop('price', axis=1)\n",
    "y = df.price\n",
    "\n",
    "pf.fit(X)\n",
    "\n",
    "pdf = pd.DataFrame(pf.transform(X), columns=pf.get_feature_names())\n",
    "\n",
    "pdf.head()"
   ]
  },
  {
   "cell_type": "code",
   "execution_count": null,
   "metadata": {},
   "outputs": [],
   "source": [
    "df.zip_mean.describe()"
   ]
  },
  {
   "cell_type": "code",
   "execution_count": null,
   "metadata": {},
   "outputs": [],
   "source": [
    "# lr = LinearRegression().fit(pdf,y)\n",
    "# lr.score(pdf,y)"
   ]
  },
  {
   "cell_type": "code",
   "execution_count": null,
   "metadata": {},
   "outputs": [],
   "source": [
    "whole = pd.concat([pdf,y], axis=1)"
   ]
  },
  {
   "cell_type": "code",
   "execution_count": null,
   "metadata": {},
   "outputs": [],
   "source": [
    "whole_corr = whole.corr()['price'].sort_values(ascending=False)"
   ]
  },
  {
   "cell_type": "code",
   "execution_count": null,
   "metadata": {},
   "outputs": [],
   "source": [
    "whole_corr.sort_values(ascending=False)"
   ]
  },
  {
   "cell_type": "code",
   "execution_count": null,
   "metadata": {},
   "outputs": [],
   "source": [
    "y = df['price']\n",
    "X = sm.add_constant(whole[['x3 x16', 'x2 x3', 'x6 x16']])\n",
    "\n",
    "# Run model\n",
    "results = sm.OLS(y,X).fit()\n",
    "results.summary()"
   ]
  },
  {
   "cell_type": "code",
   "execution_count": null,
   "metadata": {},
   "outputs": [],
   "source": [
    "y = df['price']\n",
    "X = sm.add_constant(whole['x3 x16'])\n",
    "\n",
    "# Run model\n",
    "results = sm.OLS(y,X).fit()\n",
    "results.summary()"
   ]
  },
  {
   "cell_type": "code",
   "execution_count": null,
   "metadata": {},
   "outputs": [],
   "source": [
    "data_categorical = pd.DataFrame(df.select_dtypes(\"object\")).drop(['date','address'], axis=1)\n",
    "data_categorical.head()"
   ]
  },
  {
   "cell_type": "code",
   "execution_count": null,
   "metadata": {},
   "outputs": [],
   "source": [
    "cat_data = data_categorical[['waterfront', 'greenbelt', 'nuisance', 'heat_source', 'sewer_system']]\n",
    "ordinal_data = data_categorical[['view', 'condition', 'grade']]"
   ]
  },
  {
   "cell_type": "code",
   "execution_count": null,
   "metadata": {},
   "outputs": [],
   "source": [
    "cat_dums = pd.get_dummies(cat_data)\n",
    "cat_dums = cat_dums.add_suffix('_dum')\n",
    "cat_dums"
   ]
  },
  {
   "cell_type": "code",
   "execution_count": null,
   "metadata": {},
   "outputs": [],
   "source": [
    "pd.get_dummies(cat_data, drop_first=True)"
   ]
  },
  {
   "cell_type": "code",
   "execution_count": null,
   "metadata": {},
   "outputs": [],
   "source": [
    "df['grade'].value_counts()"
   ]
  },
  {
   "cell_type": "code",
   "execution_count": null,
   "metadata": {},
   "outputs": [],
   "source": [
    "pd.DataFrame(ordinal_data['grade'])"
   ]
  },
  {
   "cell_type": "code",
   "execution_count": null,
   "metadata": {},
   "outputs": [],
   "source": [
    "cat_wat = pd.DataFrame(cat_data.waterfront)\n",
    "cat_wat"
   ]
  },
  {
   "cell_type": "code",
   "execution_count": null,
   "metadata": {},
   "outputs": [],
   "source": [
    "ohe = OneHotEncoder(sparse=False)\n",
    "ohe.fit(cat_wat)\n",
    "wat_encoded = ohe.transform(cat_wat)\n",
    "wat_encoded = pd.DataFrame(wat_encoded).add_prefix('wat_')\n",
    "wat_encoded"
   ]
  },
  {
   "cell_type": "code",
   "execution_count": null,
   "metadata": {},
   "outputs": [],
   "source": [
    "ohe = OneHotEncoder(sparse=False)\n",
    "ohe.fit(pd.DataFrame(cat_data['waterfront']))\n",
    "waterfront_enc = ohe.transform(pd.DataFrame(cat_data['waterfront']))\n"
   ]
  },
  {
   "cell_type": "code",
   "execution_count": null,
   "metadata": {},
   "outputs": [],
   "source": [
    "waterfront_enc"
   ]
  },
  {
   "cell_type": "code",
   "execution_count": null,
   "metadata": {},
   "outputs": [],
   "source": [
    "pd.DataFrame(waterfront_enc)"
   ]
  },
  {
   "cell_type": "code",
   "execution_count": null,
   "metadata": {},
   "outputs": [],
   "source": [
    "cat_encoded"
   ]
  },
  {
   "cell_type": "code",
   "execution_count": null,
   "metadata": {},
   "outputs": [],
   "source": [
    "pd.DataFrame(cat_encoded)"
   ]
  },
  {
   "cell_type": "code",
   "execution_count": null,
   "metadata": {},
   "outputs": [],
   "source": [
    "y = df['price']\n",
    "X = sm.add_constant(df['sqft_living'])\n",
    "\n",
    "results = sm.OLS(y,X).fit()\n",
    "results.summary()"
   ]
  },
  {
   "cell_type": "code",
   "execution_count": null,
   "metadata": {},
   "outputs": [],
   "source": []
  },
  {
   "cell_type": "code",
   "execution_count": null,
   "metadata": {},
   "outputs": [],
   "source": [
    "y = df['price']\n",
    "X = sm.add_constant(view_encoded)\n",
    "\n",
    "results = sm.OLS(y,X).fit()\n",
    "results.summary()"
   ]
  },
  {
   "cell_type": "code",
   "execution_count": null,
   "metadata": {},
   "outputs": [],
   "source": []
  },
  {
   "cell_type": "code",
   "execution_count": null,
   "metadata": {},
   "outputs": [],
   "source": [
    "y = df['price']\n",
    "X = sm.add_constant(grade_encoded)\n",
    "\n",
    "results = sm.OLS(y,X).fit()\n",
    "results.summary()"
   ]
  },
  {
   "cell_type": "code",
   "execution_count": null,
   "metadata": {},
   "outputs": [],
   "source": []
  },
  {
   "cell_type": "code",
   "execution_count": null,
   "metadata": {},
   "outputs": [],
   "source": [
    "y = df['price']\n",
    "X = sm.add_constant(cond_encoded)\n",
    "\n",
    "results = sm.OLS(y,X).fit()\n",
    "results.summary()"
   ]
  },
  {
   "cell_type": "code",
   "execution_count": null,
   "metadata": {},
   "outputs": [],
   "source": [
    "df_gr_enc = pd.DataFrame(df.grade_enc)\n",
    "df_sq_ft = pd.DataFrame(df.sqft_living)\n",
    "\n",
    "X3 = pd.concat([df_sq_ft, df_gr_enc], axis=1)\n",
    "\n",
    "y = df['price']\n",
    "X = sm.add_constant(X3)\n",
    "\n",
    "results = sm.OLS(y,X).fit()\n",
    "results.summary()"
   ]
  },
  {
   "cell_type": "code",
   "execution_count": null,
   "metadata": {},
   "outputs": [],
   "source": [
    "y = df['price']\n",
    "X = sm.add_constant(X3)\n",
    "\n",
    "results = sm.OLS(y,X).fit()\n",
    "results.summary()"
   ]
  },
  {
   "cell_type": "code",
   "execution_count": null,
   "metadata": {},
   "outputs": [],
   "source": [
    "sns.set(rc={'figure.figsize':(12, 12)})\n",
    "\n",
    "mask  = np.triu(np.ones_like(concat_all.drop('id', axis=1).corr()))\n",
    "sns.heatmap(abs(concat_all.drop('id', axis=1).corr()), annot=True, mask=mask)"
   ]
  },
  {
   "cell_type": "code",
   "execution_count": null,
   "metadata": {},
   "outputs": [],
   "source": [
    "df_sq_ftb = pd.DataFrame(df['sqft_basement'])\n",
    "df_sq_ftb"
   ]
  },
  {
   "cell_type": "code",
   "execution_count": null,
   "metadata": {},
   "outputs": [],
   "source": [
    "X4 = pd.DataFrame(np.hstack([df_sq_ft, df_gr_enc, df_sq_ftb]))"
   ]
  },
  {
   "cell_type": "code",
   "execution_count": null,
   "metadata": {},
   "outputs": [],
   "source": [
    "y = df['price']\n",
    "X = sm.add_constant(X4)\n",
    "\n",
    "results = sm.OLS(y,X).fit()\n",
    "results.summary()"
   ]
  },
  {
   "cell_type": "code",
   "execution_count": null,
   "metadata": {},
   "outputs": [],
   "source": []
  },
  {
   "cell_type": "code",
   "execution_count": null,
   "metadata": {},
   "outputs": [],
   "source": [
    "sft_living\n",
    "bathrooms\n"
   ]
  },
  {
   "cell_type": "code",
   "execution_count": null,
   "metadata": {},
   "outputs": [],
   "source": []
  },
  {
   "cell_type": "code",
   "execution_count": null,
   "metadata": {},
   "outputs": [],
   "source": []
  }
 ],
 "metadata": {
  "kernelspec": {
   "display_name": "Python (learn-env)",
   "language": "python",
   "name": "learn-env"
  },
  "language_info": {
   "codemirror_mode": {
    "name": "ipython",
    "version": 3
   },
   "file_extension": ".py",
   "mimetype": "text/x-python",
   "name": "python",
   "nbconvert_exporter": "python",
   "pygments_lexer": "ipython3",
   "version": "3.8.5"
  }
 },
 "nbformat": 4,
 "nbformat_minor": 4
}
